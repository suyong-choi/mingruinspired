{
 "cells": [
  {
   "cell_type": "code",
   "execution_count": 1,
   "metadata": {},
   "outputs": [],
   "source": [
    "import pandas as pd\n",
    "import numpy as np\n",
    "from ray import tune, train\n",
    "from ray.tune.schedulers import ASHAScheduler, MedianStoppingRule\n",
    "import tempfile\n",
    "import pathlib\n",
    "import matplotlib\n",
    "import matplotlib.pyplot as plt\n",
    "import mingruinspred\n",
    "import torch\n",
    "from torchmetrics.classification import BinaryAUROC, BinaryAccuracy, BinaryROC, ROC\n",
    "\n",
    "from torch.utils.data import Dataset, DataLoader, random_split\n",
    "from torchview import draw_graph\n",
    "import openml"
   ]
  },
  {
   "cell_type": "code",
   "execution_count": 2,
   "metadata": {},
   "outputs": [
    {
     "name": "stdout",
     "output_type": "stream",
     "text": [
      "CUDA is available. Using GPU.\n"
     ]
    }
   ],
   "source": [
    "# Check CUDA availability\n",
    "if torch.cuda.is_available():\n",
    "    device = torch.device(\"cuda\")\n",
    "    print(\"CUDA is available. Using GPU.\")\n",
    "else:\n",
    "    device = torch.device(\"cpu\")\n",
    "    print(\"CUDA is not available. Using CPU.\")\n",
    "\n",
    "device = torch.device(\"cpu\")"
   ]
  },
  {
   "cell_type": "code",
   "execution_count": 3,
   "metadata": {},
   "outputs": [],
   "source": [
    "UseData = \"fake\" # \"fake\", \"openml\", \"uci\""
   ]
  },
  {
   "cell_type": "code",
   "execution_count": 4,
   "metadata": {},
   "outputs": [],
   "source": [
    "import torch.nn as nn\n",
    "\n",
    "class MLP(nn.Module):\n",
    "  '''\n",
    "    Multilayer Perceptron.\n",
    "  '''\n",
    "  def __init__(self, nlayers:int, input_size:int, hidden_size:int, dropout=0.10)->None:\n",
    "    super().__init__()\n",
    "    self.layers = nn.Sequential(nn.Linear(input_size, hidden_size))\n",
    "    #self.layers.append(nn.LayerNorm(hidden_size)) # needed or not?yes\n",
    "    for _ in range(nlayers-1):\n",
    "        self.layers.append(nn.Linear(hidden_size, hidden_size))\n",
    "        self.layers.append(nn.LayerNorm(hidden_size))\n",
    "        self.layers.append(nn.ReLU())\n",
    "        self.layers.append(nn.Dropout(dropout))\n",
    "\n",
    "    self.layers.append(nn.LayerNorm(hidden_size))\n",
    "    self.layers.append(nn.Dropout(dropout))\n",
    "    self.layers.append(nn.Linear(hidden_size, 1))\n",
    "    self.layers.append(nn.Sigmoid())\n",
    "    pass\n",
    "\n",
    "\n",
    "  def forward(self, x):\n",
    "    '''\n",
    "      Forward pass\n",
    "    '''\n",
    "    return self.layers(x)"
   ]
  },
  {
   "cell_type": "markdown",
   "metadata": {},
   "source": [
    "## Create fake data"
   ]
  },
  {
   "cell_type": "code",
   "execution_count": 5,
   "metadata": {},
   "outputs": [
    {
     "name": "stdout",
     "output_type": "stream",
     "text": [
      "          x         y         z         r  class     xnorm     ynorm     znorm\n",
      "0 -0.336798 -0.872758 -0.126538  0.944008    1.0 -0.582723 -1.538249 -0.236178\n",
      "1 -0.099900  0.935466 -0.253292  0.974287    1.0 -0.173323  1.612685 -0.456039\n",
      "2  0.778043  0.044540  0.412446  0.881729    1.0  1.343908  0.060194  0.698719\n",
      "3  0.157718  0.180283  0.522338  0.574643    1.0  0.271884  0.296735  0.889333\n",
      "4  0.799402 -0.501328  0.582613  1.108968    0.0  1.380819 -0.891011  0.993882\n"
     ]
    }
   ],
   "source": [
    "if UseData == \"fake\":\n",
    "    # Number of data points to generate\n",
    "    num_samples = 10000\n",
    "    xdim = 3\n",
    "    # Generate random x, y, z values in the range [-1.0, 1.0)\n",
    "    x = np.random.uniform(-1.0, 1.0, num_samples).astype(np.float32)\n",
    "    y = np.random.uniform(-1.0, 1.0, num_samples).astype(np.float32)\n",
    "    z = np.random.uniform(-1.0, 1.0, num_samples).astype(np.float32)\n",
    "    r = np.sqrt(x**2 + y**2 + z**2)\n",
    "    # Calculate class labels based on the condition x**2 + y**2 + z**2 < 1.0\n",
    "    classes = np.where(r < 1.0, 1.0, 0.0)\n",
    "\n",
    "    # Create a Pandas DataFrame\n",
    "    data = pd.DataFrame({'x': x, 'y': y, 'z': z, 'r':r, 'class': classes})\n",
    "\n",
    "    for col in ['x', 'y', 'z']:\n",
    "        data[col+'norm'] = (data[col] - data[col].mean()) / data[col].std()\n",
    "    # Print the first few rows of the DataFrame\n",
    "    print(data.head())\n",
    "\n",
    "    class CustomDataset(Dataset):\n",
    "        def __init__(self, df):\n",
    "            self.features = torch.tensor(df[['xnorm', 'ynorm', 'znorm']].values, dtype=torch.float32, device=device)\n",
    "            self.labels = torch.tensor(df['class'].values, dtype=torch.float32, device=device)\n",
    "\n",
    "        def __len__(self):\n",
    "            return len(self.labels)\n",
    "\n",
    "        def __getitem__(self, idx):\n",
    "            return self.features[idx], self.labels[idx]\n",
    "    dataset = CustomDataset(data)\n",
    "    dataloader = DataLoader(dataset, batch_size=32, shuffle=False)\n",
    "    train_dataset, test_dataset = random_split(dataset, [0.5, 0.5])\n",
    "    train_dataloader = DataLoader(train_dataset, batch_size=32, shuffle=True)\n",
    "    test_dataloader = DataLoader(test_dataset, batch_size=32, shuffle=False)\n",
    "    # You can save the data to a CSV file if needed\n",
    "    # data.to_csv('classification_data.csv', index=False)"
   ]
  },
  {
   "cell_type": "markdown",
   "metadata": {},
   "source": [
    "## Use OpenML data"
   ]
  },
  {
   "cell_type": "code",
   "execution_count": 6,
   "metadata": {},
   "outputs": [],
   "source": [
    "if UseData == \"openml\":\n",
    "    openml.config.apikey = '615ea10ef2dd7c2340baa5c38f6fb73c'\n",
    "    tasks = openml.tasks.list_tasks(openml.tasks.TaskType(1), output_format='dataframe')\n",
    "\n",
    "    #for task_id in tasks:\n",
    "    #    task = tasks[task_id]\n",
    "    #    if task['NumberOfMissingValues']==0 \\\n",
    "    #        and task['NumberOfInstancesWithMissingValues']== 0 \\\n",
    "    #        and task['NumberOfClasses']==2 \\\n",
    "    #        and task['NumberOfInstances']>10000 \\\n",
    "    #        and task['NumberofSymbolicFeatures']==0    :\n",
    "    #        print(task)\n",
    "\n",
    "    taskhiggs = openml.tasks.get_task(52950)\n",
    "    data = taskhiggs.get_dataset().get_data(dataset_format='dataframe')[0].iloc[:-1,:]\n",
    "    data = pd.get_dummies(data, columns=['class'])\n",
    "    xdim = data.shape[1]-3\n",
    "    class CustomDataset(Dataset):\n",
    "        def __init__(self, df):\n",
    "            self.features = torch.tensor(df.iloc[:,1:-2].values, dtype=torch.float32, device=device)\n",
    "            self.labels = torch.tensor(df['class_1'].values, dtype=torch.float32, device=device)\n",
    "\n",
    "        def __len__(self):\n",
    "            return len(self.labels)\n",
    "\n",
    "        def __getitem__(self, idx):\n",
    "            return self.features[idx], self.labels[idx]\n",
    "        \n",
    "    dataset = CustomDataset(data)\n",
    "    dataloader = DataLoader(dataset, batch_size=32, shuffle=False)\n",
    "    train_dataset, test_dataset = random_split(dataset, [0.5, 0.5])\n",
    "    # You can save the data to a CSV file if needed\n",
    "\n"
   ]
  },
  {
   "cell_type": "code",
   "execution_count": 7,
   "metadata": {},
   "outputs": [],
   "source": [
    "if UseData == \"openml\":\n",
    "    plt.clf()\n",
    "    var='m_wwbb'\n",
    "    plt.hist(data.loc[data['class_1']==1][var], bins=100, label='sig')\n",
    "    plt.hist(data.loc[data['class_1']==0][var], bins=100, label='bkg')\n",
    "    plt.legend()\n",
    "    plt.show()"
   ]
  },
  {
   "cell_type": "markdown",
   "metadata": {},
   "source": [
    "## Use UCI data"
   ]
  },
  {
   "cell_type": "code",
   "execution_count": 8,
   "metadata": {},
   "outputs": [],
   "source": [
    "if UseData == \"uci\":\n",
    "    # the HEPMASS data doesn't have properly formatted header\n",
    "    # so, replacing with my own\n",
    "    labels = ['class']\n",
    "    xdim=27\n",
    "    for i in range(xdim):\n",
    "        labels.append(f'f{i}')\n",
    "    data = pd.read_csv('1000_train.csv.gz', compression='gzip', dtype=\"float32\", names=labels, header=0)\n",
    "\n",
    "    class CustomDataset(Dataset):\n",
    "        def __init__(self, df):\n",
    "            self.features = torch.tensor(df.iloc[:, 1:].values, dtype=torch.float32, device=device)\n",
    "            self.labels = torch.tensor(df.iloc[:, 0].values, dtype=torch.float32, device=device)\n",
    "\n",
    "        def __len__(self):\n",
    "            return len(self.labels)\n",
    "\n",
    "        def __getitem__(self, idx):\n",
    "            return self.features[idx], self.labels[idx]\n",
    "    dataset = CustomDataset(data.iloc[:50000,:])\n",
    "    dataloader = DataLoader(dataset, batch_size=32, shuffle=False)\n",
    "    train_dataset, test_dataset = random_split(dataset, [0.5, 0.5])"
   ]
  },
  {
   "cell_type": "code",
   "execution_count": 9,
   "metadata": {},
   "outputs": [
    {
     "data": {
      "text/html": [
       "<div>\n",
       "<style scoped>\n",
       "    .dataframe tbody tr th:only-of-type {\n",
       "        vertical-align: middle;\n",
       "    }\n",
       "\n",
       "    .dataframe tbody tr th {\n",
       "        vertical-align: top;\n",
       "    }\n",
       "\n",
       "    .dataframe thead th {\n",
       "        text-align: right;\n",
       "    }\n",
       "</style>\n",
       "<table border=\"1\" class=\"dataframe\">\n",
       "  <thead>\n",
       "    <tr style=\"text-align: right;\">\n",
       "      <th></th>\n",
       "      <th>x</th>\n",
       "      <th>y</th>\n",
       "      <th>z</th>\n",
       "      <th>r</th>\n",
       "      <th>class</th>\n",
       "      <th>xnorm</th>\n",
       "      <th>ynorm</th>\n",
       "      <th>znorm</th>\n",
       "    </tr>\n",
       "  </thead>\n",
       "  <tbody>\n",
       "    <tr>\n",
       "      <th>0</th>\n",
       "      <td>-0.336798</td>\n",
       "      <td>-0.872758</td>\n",
       "      <td>-0.126538</td>\n",
       "      <td>0.944008</td>\n",
       "      <td>1.0</td>\n",
       "      <td>-0.582723</td>\n",
       "      <td>-1.538249</td>\n",
       "      <td>-0.236178</td>\n",
       "    </tr>\n",
       "    <tr>\n",
       "      <th>1</th>\n",
       "      <td>-0.099900</td>\n",
       "      <td>0.935466</td>\n",
       "      <td>-0.253292</td>\n",
       "      <td>0.974287</td>\n",
       "      <td>1.0</td>\n",
       "      <td>-0.173323</td>\n",
       "      <td>1.612685</td>\n",
       "      <td>-0.456039</td>\n",
       "    </tr>\n",
       "    <tr>\n",
       "      <th>2</th>\n",
       "      <td>0.778043</td>\n",
       "      <td>0.044540</td>\n",
       "      <td>0.412446</td>\n",
       "      <td>0.881729</td>\n",
       "      <td>1.0</td>\n",
       "      <td>1.343908</td>\n",
       "      <td>0.060194</td>\n",
       "      <td>0.698719</td>\n",
       "    </tr>\n",
       "    <tr>\n",
       "      <th>3</th>\n",
       "      <td>0.157718</td>\n",
       "      <td>0.180283</td>\n",
       "      <td>0.522338</td>\n",
       "      <td>0.574643</td>\n",
       "      <td>1.0</td>\n",
       "      <td>0.271884</td>\n",
       "      <td>0.296735</td>\n",
       "      <td>0.889333</td>\n",
       "    </tr>\n",
       "    <tr>\n",
       "      <th>4</th>\n",
       "      <td>0.799402</td>\n",
       "      <td>-0.501328</td>\n",
       "      <td>0.582613</td>\n",
       "      <td>1.108968</td>\n",
       "      <td>0.0</td>\n",
       "      <td>1.380819</td>\n",
       "      <td>-0.891011</td>\n",
       "      <td>0.993882</td>\n",
       "    </tr>\n",
       "    <tr>\n",
       "      <th>...</th>\n",
       "      <td>...</td>\n",
       "      <td>...</td>\n",
       "      <td>...</td>\n",
       "      <td>...</td>\n",
       "      <td>...</td>\n",
       "      <td>...</td>\n",
       "      <td>...</td>\n",
       "      <td>...</td>\n",
       "    </tr>\n",
       "    <tr>\n",
       "      <th>9995</th>\n",
       "      <td>0.915567</td>\n",
       "      <td>0.777365</td>\n",
       "      <td>0.266034</td>\n",
       "      <td>1.230176</td>\n",
       "      <td>0.0</td>\n",
       "      <td>1.581573</td>\n",
       "      <td>1.337183</td>\n",
       "      <td>0.444760</td>\n",
       "    </tr>\n",
       "    <tr>\n",
       "      <th>9996</th>\n",
       "      <td>-0.631417</td>\n",
       "      <td>0.179442</td>\n",
       "      <td>-0.953731</td>\n",
       "      <td>1.157795</td>\n",
       "      <td>0.0</td>\n",
       "      <td>-1.091873</td>\n",
       "      <td>0.295269</td>\n",
       "      <td>-1.670987</td>\n",
       "    </tr>\n",
       "    <tr>\n",
       "      <th>9997</th>\n",
       "      <td>-0.569339</td>\n",
       "      <td>0.049801</td>\n",
       "      <td>0.699365</td>\n",
       "      <td>0.903182</td>\n",
       "      <td>1.0</td>\n",
       "      <td>-0.984591</td>\n",
       "      <td>0.069363</td>\n",
       "      <td>1.196395</td>\n",
       "    </tr>\n",
       "    <tr>\n",
       "      <th>9998</th>\n",
       "      <td>-0.973349</td>\n",
       "      <td>-0.656069</td>\n",
       "      <td>0.853070</td>\n",
       "      <td>1.451056</td>\n",
       "      <td>0.0</td>\n",
       "      <td>-1.682789</td>\n",
       "      <td>-1.160656</td>\n",
       "      <td>1.463005</td>\n",
       "    </tr>\n",
       "    <tr>\n",
       "      <th>9999</th>\n",
       "      <td>-0.852347</td>\n",
       "      <td>-0.234752</td>\n",
       "      <td>0.114847</td>\n",
       "      <td>0.891512</td>\n",
       "      <td>1.0</td>\n",
       "      <td>-1.473678</td>\n",
       "      <td>-0.426487</td>\n",
       "      <td>0.182518</td>\n",
       "    </tr>\n",
       "  </tbody>\n",
       "</table>\n",
       "<p>10000 rows × 8 columns</p>\n",
       "</div>"
      ],
      "text/plain": [
       "             x         y         z         r  class     xnorm     ynorm  \\\n",
       "0    -0.336798 -0.872758 -0.126538  0.944008    1.0 -0.582723 -1.538249   \n",
       "1    -0.099900  0.935466 -0.253292  0.974287    1.0 -0.173323  1.612685   \n",
       "2     0.778043  0.044540  0.412446  0.881729    1.0  1.343908  0.060194   \n",
       "3     0.157718  0.180283  0.522338  0.574643    1.0  0.271884  0.296735   \n",
       "4     0.799402 -0.501328  0.582613  1.108968    0.0  1.380819 -0.891011   \n",
       "...        ...       ...       ...       ...    ...       ...       ...   \n",
       "9995  0.915567  0.777365  0.266034  1.230176    0.0  1.581573  1.337183   \n",
       "9996 -0.631417  0.179442 -0.953731  1.157795    0.0 -1.091873  0.295269   \n",
       "9997 -0.569339  0.049801  0.699365  0.903182    1.0 -0.984591  0.069363   \n",
       "9998 -0.973349 -0.656069  0.853070  1.451056    0.0 -1.682789 -1.160656   \n",
       "9999 -0.852347 -0.234752  0.114847  0.891512    1.0 -1.473678 -0.426487   \n",
       "\n",
       "         znorm  \n",
       "0    -0.236178  \n",
       "1    -0.456039  \n",
       "2     0.698719  \n",
       "3     0.889333  \n",
       "4     0.993882  \n",
       "...        ...  \n",
       "9995  0.444760  \n",
       "9996 -1.670987  \n",
       "9997  1.196395  \n",
       "9998  1.463005  \n",
       "9999  0.182518  \n",
       "\n",
       "[10000 rows x 8 columns]"
      ]
     },
     "execution_count": 9,
     "metadata": {},
     "output_type": "execute_result"
    }
   ],
   "source": [
    "data"
   ]
  },
  {
   "cell_type": "code",
   "execution_count": 10,
   "metadata": {},
   "outputs": [
    {
     "data": {
      "text/plain": [
       "Index(['x', 'y', 'z', 'r', 'class', 'xnorm', 'ynorm', 'znorm'], dtype='object')"
      ]
     },
     "execution_count": 10,
     "metadata": {},
     "output_type": "execute_result"
    }
   ],
   "source": [
    "data.columns"
   ]
  },
  {
   "cell_type": "markdown",
   "metadata": {},
   "source": [
    "## Create Model"
   ]
  },
  {
   "cell_type": "code",
   "execution_count": 11,
   "metadata": {},
   "outputs": [],
   "source": [
    "#model = mingruinspred.Mingrustack(3, 27, 64, 0.05).to(device)\n",
    "model = MLP(3, xdim, 64, 0.05).to(device)"
   ]
  },
  {
   "cell_type": "code",
   "execution_count": 12,
   "metadata": {},
   "outputs": [],
   "source": [
    "optim = torch.optim.Adam(model.parameters())\n",
    "crit = torch.nn.BCELoss()\n",
    "\n",
    "from ray.train import Checkpoint\n",
    "\n",
    "def trainmodel(model, traindataloader, testdataloader, num_epochs=1000): \n",
    "    train_scores = []\n",
    "    test_scores = []\n",
    "\n",
    "    ibatches = 0\n",
    "\n",
    "    for epoch in range(num_epochs):\n",
    "        train_loss = 0.0\n",
    "        #model.train()  # Set the model to training mode\n",
    "        for batch_idx, (features, labels) in enumerate(traindataloader):\n",
    "\n",
    "            # Forward pass\n",
    "            outputs = model(features)\n",
    "            outputs = outputs.squeeze(-1)  # Remove the last dimension for BCELoss\n",
    "\n",
    "            # Calculate loss\n",
    "            loss = crit(outputs, labels)\n",
    "\n",
    "            # Backward pass and optimization\n",
    "            optim.zero_grad()\n",
    "            loss.backward()\n",
    "            optim.step()\n",
    "\n",
    "            if ibatches % 1000 ==0:\n",
    "                print(f'{ibatches} {loss.item()}')\n",
    "            ibatches += 1\n",
    "            train_loss += loss.item()\n",
    "        avg_train_loss = train_loss / len(train_dataloader)\n",
    "        train_scores.append(avg_train_loss)\n",
    "\n",
    "        test_loss = 0.0\n",
    "        #model.eval()\n",
    "        with torch.no_grad():\n",
    "            for batch_idx, (features, labels) in enumerate(testdataloader):\n",
    "\n",
    "                # Forward pass\n",
    "                outputs = model(features)\n",
    "                outputs = outputs.squeeze(-1)  # Remove the last dimension for BCELoss\n",
    "\n",
    "                # Calculate loss\n",
    "                loss = crit(outputs, labels)\n",
    "\n",
    "                test_loss += loss.item()\n",
    "        avg_test_loss = test_loss / len(test_dataloader)\n",
    "        train.report({'test_loss':avg_test_loss})\n",
    "        test_scores.append(avg_test_loss)\n",
    "        print(f\"Epoch [{epoch+1}/{num_epochs}], \"\n",
    "              f\"Train Loss: {avg_train_loss:.4f}, \"\n",
    "              f\"Test Loss: {avg_test_loss:.4f}\")\n",
    "        \n",
    "        with tempfile.TemporaryDirectory() as temp_checkpoint_dir:\n",
    "            #print(temp_checkpoint_dir)\n",
    "            path = pathlib.Path(temp_checkpoint_dir, \"checkpoint.pt\")\n",
    "            torch.save(\n",
    "                (model.state_dict(), optim.state_dict()), path\n",
    "            )\n",
    "            checkpoint = Checkpoint.from_directory(temp_checkpoint_dir)\n",
    "            train.report(\n",
    "                {\"test_loss\": avg_test_loss},\n",
    "                checkpoint=checkpoint,\n",
    "            )\n",
    "        \n",
    "    return train_scores, test_scores\n",
    "\n"
   ]
  },
  {
   "cell_type": "code",
   "execution_count": 13,
   "metadata": {},
   "outputs": [
    {
     "name": "stdout",
     "output_type": "stream",
     "text": [
      "0 0.7063494324684143\n"
     ]
    },
    {
     "name": "stderr",
     "output_type": "stream",
     "text": [
      "c:\\extrasoftware\\anaconda202309\\envs\\magisslac\\lib\\site-packages\\ray\\train\\_internal\\session.py:652: UserWarning: `report` is meant to only be called inside a function that is executed by a Tuner or Trainer. Returning `None`.\n",
      "  warnings.warn(\n"
     ]
    },
    {
     "name": "stdout",
     "output_type": "stream",
     "text": [
      "Epoch [1/10], Train Loss: 0.3710, Test Loss: 0.2206\n",
      "Epoch [2/10], Train Loss: 0.2276, Test Loss: 0.1857\n",
      "Epoch [3/10], Train Loss: 0.2018, Test Loss: 0.2022\n",
      "Epoch [4/10], Train Loss: 0.1962, Test Loss: 0.1697\n",
      "Epoch [5/10], Train Loss: 0.1865, Test Loss: 0.1711\n",
      "Epoch [6/10], Train Loss: 0.1704, Test Loss: 0.2168\n",
      "1000 0.13839739561080933\n",
      "Epoch [7/10], Train Loss: 0.1832, Test Loss: 0.1745\n",
      "Epoch [8/10], Train Loss: 0.1575, Test Loss: 0.1534\n",
      "Epoch [9/10], Train Loss: 0.1683, Test Loss: 0.1594\n",
      "Epoch [10/10], Train Loss: 0.1557, Test Loss: 0.1559\n"
     ]
    }
   ],
   "source": [
    "train_dataloader = DataLoader(train_dataset, batch_size=32, shuffle=True)\n",
    "test_dataloader = DataLoader(test_dataset, batch_size=32, shuffle=False)\n",
    "train_sc, test_sc = trainmodel(model, train_dataloader, test_dataloader, 10)"
   ]
  },
  {
   "cell_type": "code",
   "execution_count": 14,
   "metadata": {},
   "outputs": [],
   "source": [
    "#%matplotlib ipympl\n",
    "%matplotlib inline"
   ]
  },
  {
   "cell_type": "code",
   "execution_count": 15,
   "metadata": {},
   "outputs": [
    {
     "data": {
      "text/plain": [
       "<matplotlib.legend.Legend at 0x22daf3bbe80>"
      ]
     },
     "execution_count": 15,
     "metadata": {},
     "output_type": "execute_result"
    },
    {
     "data": {
      "image/png": "[encoded data removed]",
      "text/plain": [
       "<Figure size 640x480 with 1 Axes>"
      ]
     },
     "metadata": {},
     "output_type": "display_data"
    }
   ],
   "source": [
    "plt.plot(train_sc, label='train')\n",
    "plt.plot(test_sc, label='test')\n",
    "plt.grid()\n",
    "plt.legend()"
   ]
  },
  {
   "cell_type": "code",
   "execution_count": 16,
   "metadata": {},
   "outputs": [],
   "source": [
    "def gradient_penalty(critic, real_data, fake_data, device=\"cpu\"):\n",
    "    batch_size = real_data.size(0)\n",
    "    # Generate random interpolation between real and fake data\n",
    "    alpha = torch.rand(batch_size, 1, device=device)\n",
    "    alpha = alpha.expand_as(real_data)\n",
    "    interpolated = alpha * real_data + (1 - alpha) * fake_data\n",
    "    interpolated = interpolated.requires_grad_(True)\n",
    "\n",
    "    # Calculate critic scores on interpolated data\n",
    "    critic_interpolated = critic(interpolated)\n",
    "\n",
    "    # Calculate gradients of critic scores with respect to interpolated data\n",
    "    gradients = torch.autograd.grad(\n",
    "        outputs=critic_interpolated,\n",
    "        inputs=interpolated,\n",
    "        grad_outputs=torch.ones_like(critic_interpolated),\n",
    "        create_graph=True,\n",
    "        retain_graph=True,\n",
    "    )[0]\n",
    "\n",
    "    # Calculate gradient penalty\n",
    "    gradients = gradients.view(batch_size, -1)\n",
    "    gradient_norm = gradients.norm(2, dim=1)\n",
    "    gradient_penalty = ((gradient_norm - 1) ** 2).mean()\n",
    "    return gradient_penalty"
   ]
  },
  {
   "cell_type": "markdown",
   "metadata": {},
   "source": [
    "## Hyperparameter Tuning"
   ]
  },
  {
   "cell_type": "code",
   "execution_count": 47,
   "metadata": {},
   "outputs": [],
   "source": [
    "#modeltype = MLP\n",
    "modeltype = mingruinspred.Mingrustack"
   ]
  },
  {
   "cell_type": "code",
   "execution_count": 48,
   "metadata": {},
   "outputs": [],
   "source": [
    "def tune_training(config, modeltype):\n",
    "    tunemodel = modeltype(config['depth'], xdim, config['nhidden'], config['dropout']).to(device)\n",
    "    total_params = sum(p.numel() for p in tunemodel.parameters())\n",
    "    print(f\"Total parameters: {total_params}\") \n",
    "\n",
    "    train_dataloader = DataLoader(train_dataset, batch_size=config['nbatch'], shuffle=True)\n",
    "    test_dataloader = DataLoader(test_dataset, batch_size=config['nbatch'], shuffle=False)\n",
    "    optim = torch.optim.Adam(tunemodel.parameters(), lr=config['lr'])\n",
    "    crit = torch.nn.BCELoss()\n",
    "    # main training\n",
    "    while True: # allow scheduler to stop\n",
    "        train_loss = 0.0\n",
    "        #model.train()  # Set the model to training mode\n",
    "        for batch_idx, (features, labels) in enumerate(train_dataloader):\n",
    "\n",
    "            # Forward pass\n",
    "            outputs = tunemodel(features)\n",
    "            outputs = outputs.squeeze(-1)  # Remove the last dimension for BCELoss\n",
    "\n",
    "            #shift data and calculate gradient penalty\n",
    "            features_shift = torch.roll(features, 1, 0)\n",
    "\n",
    "            #gp = gradient_penalty(tunemodel, features, features_shift)\n",
    " \n",
    "            # Calculate loss\n",
    "            loss = crit(outputs, labels)\n",
    "\n",
    "            # Backward pass and optimization\n",
    "            optim.zero_grad()\n",
    "            loss.backward()\n",
    "            optim.step()\n",
    "\n",
    "            train_loss += loss.item()\n",
    "        avg_train_loss = train_loss / len(train_dataloader)\n",
    "\n",
    "        test_loss = 0.0\n",
    "        #model.eval()\n",
    "        with torch.no_grad():\n",
    "            for batch_idx, (features, labels) in enumerate(test_dataloader):\n",
    "\n",
    "                # Forward pass\n",
    "                outputs = tunemodel(features)\n",
    "                outputs = outputs.squeeze(-1)  # Remove the last dimension for BCELoss\n",
    "\n",
    "                # Calculate loss\n",
    "                loss = crit(outputs, labels)\n",
    "\n",
    "                test_loss += loss.item()\n",
    "        avg_test_loss = test_loss / len(test_dataloader)\n",
    "        #print(f\"Epoch [{epoch+1}/{num_epochs}], \"\n",
    "        #      f\"Train Loss: {avg_train_loss:.4f}, \"\n",
    "        #      f\"Test Loss: {avg_test_loss:.4f}\")\n",
    "        \n",
    "        with tempfile.TemporaryDirectory() as temp_checkpoint_dir:\n",
    "            #print(temp_checkpoint_dir)\n",
    "            path = pathlib.Path(temp_checkpoint_dir, \"checkpoint.pt\")\n",
    "            torch.save(\n",
    "                (tunemodel.state_dict(), optim.state_dict()), path\n",
    "            )\n",
    "            checkpoint = Checkpoint.from_directory(temp_checkpoint_dir)\n",
    "            train.report(\n",
    "                {\"test_loss\": avg_test_loss},\n",
    "                checkpoint=checkpoint,\n",
    "            )\n",
    "        \n",
    "    pass"
   ]
  },
  {
   "cell_type": "code",
   "execution_count": 49,
   "metadata": {},
   "outputs": [],
   "source": [
    "search_space = {\n",
    "    'lr': tune.qloguniform(1e-4, 1e-2, 1e-5),\n",
    "    'nhidden': tune.randint(10, 128),\n",
    "    'depth': tune.randint(1, 2),\n",
    "    'nbatch': tune.choice([8, 16, 32, 64]),\n",
    "    'dropout': tune.uniform(0.0, 0.5)\n",
    "}\n",
    "\n",
    "scheduler = ASHAScheduler(\n",
    "    metric='test_loss',\n",
    "    mode=\"min\",\n",
    "    max_t=100,\n",
    "    grace_period=20,\n",
    ")\n",
    "\n",
    "schedmed = MedianStoppingRule(\n",
    "    metric='test_loss',\n",
    "    min_samples_required=5,\n",
    "    mode=\"min\",\n",
    "    grace_period=100)\n",
    "\n",
    "\n",
    "tuneconfig = tune.TuneConfig(\n",
    "    num_samples=10,\n",
    "    max_concurrent_trials=10,\n",
    "    scheduler=scheduler,\n",
    ")"
   ]
  },
  {
   "cell_type": "code",
   "execution_count": 50,
   "metadata": {},
   "outputs": [],
   "source": [
    "\n",
    "trainerwithres =   tune.with_resources(tune_training, {'cpu':1})\n",
    "trainerwithparam = tune.with_parameters(trainerwithres, modeltype=modeltype)\n",
    "tuner = tune.Tuner(\n",
    "    trainerwithparam,\n",
    "    tune_config=tuneconfig,\n",
    "    run_config=train.RunConfig(\n",
    "        storage_path=pathlib.Path(\".\").resolve().as_uri(), # this combination works on windows\n",
    "        #name=expname,\n",
    "        checkpoint_config=train.CheckpointConfig(\n",
    "            # We'll keep the best five checkpoints at all times\n",
    "            checkpoint_score_attribute=\"test_loss\",\n",
    "            checkpoint_score_order=\"min\",\n",
    "            num_to_keep=5,\n",
    "        ),\n",
    "    ),\n",
    "    param_space= search_space   \n",
    "    )\n"
   ]
  },
  {
   "cell_type": "code",
   "execution_count": 51,
   "metadata": {},
   "outputs": [],
   "source": [
    "import os\n",
    "\n",
    "os.environ[\"TUNE_DISABLE_AUTO_CALLBACK_LOGGERS\"] = \"0\""
   ]
  },
  {
   "cell_type": "code",
   "execution_count": 52,
   "metadata": {},
   "outputs": [
    {
     "data": {
      "text/html": [
       "<div class=\"tuneStatus\">\n",
       "  <div style=\"display: flex;flex-direction: row\">\n",
       "    <div style=\"display: flex;flex-direction: column;\">\n",
       "      <h3>Tune Status</h3>\n",
       "      <table>\n",
       "<tbody>\n",
       "<tr><td>Current time:</td><td>2024-12-29 16:06:53</td></tr>\n",
       "<tr><td>Running for: </td><td>00:01:48.65        </td></tr>\n",
       "<tr><td>Memory:      </td><td>18.1/31.2 GiB      </td></tr>\n",
       "</tbody>\n",
       "</table>\n",
       "    </div>\n",
       "    <div class=\"vDivider\"></div>\n",
       "    <div class=\"systemInfo\">\n",
       "      <h3>System Info</h3>\n",
       "      Using AsyncHyperBand: num_stopped=10<br>Bracket: Iter 80.000: -0.04930662352190973 | Iter 20.000: -0.1289899045307235<br>Logical resource usage: 1.0/16 CPUs, 0/1 GPUs (0.0/1.0 accelerator_type:G)\n",
       "    </div>\n",
       "    \n",
       "  </div>\n",
       "  <div class=\"hDivider\"></div>\n",
       "  <div class=\"trialStatus\">\n",
       "    <h3>Trial Status</h3>\n",
       "    <table>\n",
       "<thead>\n",
       "<tr><th>Trial name               </th><th>status    </th><th>loc            </th><th style=\"text-align: right;\">  depth</th><th style=\"text-align: right;\">  dropout</th><th style=\"text-align: right;\">     lr</th><th style=\"text-align: right;\">  nbatch</th><th style=\"text-align: right;\">  nhidden</th><th style=\"text-align: right;\">  iter</th><th style=\"text-align: right;\">  total time (s)</th><th style=\"text-align: right;\">  test_loss</th></tr>\n",
       "</thead>\n",
       "<tbody>\n",
       "<tr><td>tune_training_3b1d2_00000</td><td>TERMINATED</td><td>127.0.0.1:32272</td><td style=\"text-align: right;\">      1</td><td style=\"text-align: right;\">0.268593 </td><td style=\"text-align: right;\">0.00013</td><td style=\"text-align: right;\">      32</td><td style=\"text-align: right;\">       53</td><td style=\"text-align: right;\">    20</td><td style=\"text-align: right;\">         9.96942</td><td style=\"text-align: right;\">  0.394338 </td></tr>\n",
       "<tr><td>tune_training_3b1d2_00001</td><td>TERMINATED</td><td>127.0.0.1:18428</td><td style=\"text-align: right;\">      1</td><td style=\"text-align: right;\">0.316726 </td><td style=\"text-align: right;\">0.00028</td><td style=\"text-align: right;\">      32</td><td style=\"text-align: right;\">       63</td><td style=\"text-align: right;\">    20</td><td style=\"text-align: right;\">         9.88879</td><td style=\"text-align: right;\">  0.257804 </td></tr>\n",
       "<tr><td>tune_training_3b1d2_00002</td><td>TERMINATED</td><td>127.0.0.1:24140</td><td style=\"text-align: right;\">      1</td><td style=\"text-align: right;\">0.46581  </td><td style=\"text-align: right;\">0.00016</td><td style=\"text-align: right;\">       8</td><td style=\"text-align: right;\">       95</td><td style=\"text-align: right;\">    20</td><td style=\"text-align: right;\">        28.6843 </td><td style=\"text-align: right;\">  0.253318 </td></tr>\n",
       "<tr><td>tune_training_3b1d2_00003</td><td>TERMINATED</td><td>127.0.0.1:3560 </td><td style=\"text-align: right;\">      1</td><td style=\"text-align: right;\">0.223438 </td><td style=\"text-align: right;\">0.0002 </td><td style=\"text-align: right;\">      64</td><td style=\"text-align: right;\">      108</td><td style=\"text-align: right;\">   100</td><td style=\"text-align: right;\">        35.8072 </td><td style=\"text-align: right;\">  0.12417  </td></tr>\n",
       "<tr><td>tune_training_3b1d2_00004</td><td>TERMINATED</td><td>127.0.0.1:43700</td><td style=\"text-align: right;\">      1</td><td style=\"text-align: right;\">0.0684417</td><td style=\"text-align: right;\">0.00024</td><td style=\"text-align: right;\">      16</td><td style=\"text-align: right;\">       18</td><td style=\"text-align: right;\">    20</td><td style=\"text-align: right;\">        15.7379 </td><td style=\"text-align: right;\">  0.211417 </td></tr>\n",
       "<tr><td>tune_training_3b1d2_00005</td><td>TERMINATED</td><td>127.0.0.1:19984</td><td style=\"text-align: right;\">      1</td><td style=\"text-align: right;\">0.407519 </td><td style=\"text-align: right;\">0.0018 </td><td style=\"text-align: right;\">      32</td><td style=\"text-align: right;\">       38</td><td style=\"text-align: right;\">   100</td><td style=\"text-align: right;\">        45.5425 </td><td style=\"text-align: right;\">  0.0422972</td></tr>\n",
       "<tr><td>tune_training_3b1d2_00006</td><td>TERMINATED</td><td>127.0.0.1:41272</td><td style=\"text-align: right;\">      1</td><td style=\"text-align: right;\">0.481505 </td><td style=\"text-align: right;\">0.00148</td><td style=\"text-align: right;\">      16</td><td style=\"text-align: right;\">       32</td><td style=\"text-align: right;\">   100</td><td style=\"text-align: right;\">        71.7468 </td><td style=\"text-align: right;\">  0.0430681</td></tr>\n",
       "<tr><td>tune_training_3b1d2_00007</td><td>TERMINATED</td><td>127.0.0.1:30152</td><td style=\"text-align: right;\">      1</td><td style=\"text-align: right;\">0.40296  </td><td style=\"text-align: right;\">0.00207</td><td style=\"text-align: right;\">      32</td><td style=\"text-align: right;\">       92</td><td style=\"text-align: right;\">   100</td><td style=\"text-align: right;\">        48.9534 </td><td style=\"text-align: right;\">  0.0572021</td></tr>\n",
       "<tr><td>tune_training_3b1d2_00008</td><td>TERMINATED</td><td>127.0.0.1:43492</td><td style=\"text-align: right;\">      1</td><td style=\"text-align: right;\">0.459305 </td><td style=\"text-align: right;\">0.00046</td><td style=\"text-align: right;\">       8</td><td style=\"text-align: right;\">       18</td><td style=\"text-align: right;\">    20</td><td style=\"text-align: right;\">        27.4321 </td><td style=\"text-align: right;\">  0.151788 </td></tr>\n",
       "<tr><td>tune_training_3b1d2_00009</td><td>TERMINATED</td><td>127.0.0.1:18108</td><td style=\"text-align: right;\">      1</td><td style=\"text-align: right;\">0.348969 </td><td style=\"text-align: right;\">0.00054</td><td style=\"text-align: right;\">       8</td><td style=\"text-align: right;\">       95</td><td style=\"text-align: right;\">    80</td><td style=\"text-align: right;\">       102.218  </td><td style=\"text-align: right;\">  0.0675457</td></tr>\n",
       "</tbody>\n",
       "</table>\n",
       "  </div>\n",
       "</div>\n",
       "<style>\n",
       ".tuneStatus {\n",
       "  color: var(--jp-ui-font-color1);\n",
       "}\n",
       ".tuneStatus .systemInfo {\n",
       "  display: flex;\n",
       "  flex-direction: column;\n",
       "}\n",
       ".tuneStatus td {\n",
       "  white-space: nowrap;\n",
       "}\n",
       ".tuneStatus .trialStatus {\n",
       "  display: flex;\n",
       "  flex-direction: column;\n",
       "}\n",
       ".tuneStatus h3 {\n",
       "  font-weight: bold;\n",
       "}\n",
       ".tuneStatus .hDivider {\n",
       "  border-bottom-width: var(--jp-border-width);\n",
       "  border-bottom-color: var(--jp-border-color0);\n",
       "  border-bottom-style: solid;\n",
       "}\n",
       ".tuneStatus .vDivider {\n",
       "  border-left-width: var(--jp-border-width);\n",
       "  border-left-color: var(--jp-border-color0);\n",
       "  border-left-style: solid;\n",
       "  margin: 0.5em 1em 0.5em 1em;\n",
       "}\n",
       "</style>\n"
      ],
      "text/plain": [
       "<IPython.core.display.HTML object>"
      ]
     },
     "metadata": {},
     "output_type": "display_data"
    },
    {
     "name": "stderr",
     "output_type": "stream",
     "text": [
      "2024-12-29 16:05:05,387\tWARNING trial.py:647 -- The path to the trial log directory is too long (max length: 260. Consider using `trial_dirname_creator` to shorten the path. Path: C:\\Users\\Alesi\\AppData\\Local\\Temp\\ray\\session_2024-12-29_15-49-27_446798_14908\\artifacts\\2024-12-29_16-05-05\\tune_training_2024-12-29_16-05-05\\driver_artifacts\\tune_training_3b1d2_00000_0_depth=1,dropout=0.2686,lr=0.0001,nbatch=32,nhidden=53_2024-12-29_16-05-05\n",
      "2024-12-29 16:05:05,393\tWARNING trial.py:647 -- The path to the trial log directory is too long (max length: 260. Consider using `trial_dirname_creator` to shorten the path. Path: C:\\Users\\Alesi\\AppData\\Local\\Temp\\ray\\session_2024-12-29_15-49-27_446798_14908\\artifacts\\2024-12-29_16-05-05\\tune_training_2024-12-29_16-05-05\\driver_artifacts\\tune_training_3b1d2_00000_0_depth=1,dropout=0.2686,lr=0.0001,nbatch=32,nhidden=53_2024-12-29_16-05-05\n",
      "2024-12-29 16:05:05,397\tWARNING trial.py:647 -- The path to the trial log directory is too long (max length: 260. Consider using `trial_dirname_creator` to shorten the path. Path: C:\\Users\\Alesi\\AppData\\Local\\Temp\\ray\\session_2024-12-29_15-49-27_446798_14908\\artifacts\\2024-12-29_16-05-05\\tune_training_2024-12-29_16-05-05\\driver_artifacts\\tune_training_3b1d2_00001_1_depth=1,dropout=0.3167,lr=0.0003,nbatch=32,nhidden=63_2024-12-29_16-05-05\n",
      "2024-12-29 16:05:05,403\tWARNING trial.py:647 -- The path to the trial log directory is too long (max length: 260. Consider using `trial_dirname_creator` to shorten the path. Path: C:\\Users\\Alesi\\AppData\\Local\\Temp\\ray\\session_2024-12-29_15-49-27_446798_14908\\artifacts\\2024-12-29_16-05-05\\tune_training_2024-12-29_16-05-05\\driver_artifacts\\tune_training_3b1d2_00001_1_depth=1,dropout=0.3167,lr=0.0003,nbatch=32,nhidden=63_2024-12-29_16-05-05\n",
      "2024-12-29 16:05:05,407\tWARNING trial.py:647 -- The path to the trial log directory is too long (max length: 260. Consider using `trial_dirname_creator` to shorten the path. Path: C:\\Users\\Alesi\\AppData\\Local\\Temp\\ray\\session_2024-12-29_15-49-27_446798_14908\\artifacts\\2024-12-29_16-05-05\\tune_training_2024-12-29_16-05-05\\driver_artifacts\\tune_training_3b1d2_00002_2_depth=1,dropout=0.4658,lr=0.0002,nbatch=8,nhidden=95_2024-12-29_16-05-05\n",
      "2024-12-29 16:05:05,411\tWARNING trial.py:647 -- The path to the trial log directory is too long (max length: 260. Consider using `trial_dirname_creator` to shorten the path. Path: C:\\Users\\Alesi\\AppData\\Local\\Temp\\ray\\session_2024-12-29_15-49-27_446798_14908\\artifacts\\2024-12-29_16-05-05\\tune_training_2024-12-29_16-05-05\\driver_artifacts\\tune_training_3b1d2_00002_2_depth=1,dropout=0.4658,lr=0.0002,nbatch=8,nhidden=95_2024-12-29_16-05-05\n",
      "2024-12-29 16:05:05,414\tWARNING trial.py:647 -- The path to the trial log directory is too long (max length: 260. Consider using `trial_dirname_creator` to shorten the path. Path: C:\\Users\\Alesi\\AppData\\Local\\Temp\\ray\\session_2024-12-29_15-49-27_446798_14908\\artifacts\\2024-12-29_16-05-05\\tune_training_2024-12-29_16-05-05\\driver_artifacts\\tune_training_3b1d2_00003_3_depth=1,dropout=0.2234,lr=0.0002,nbatch=64,nhidden=108_2024-12-29_16-05-05\n",
      "2024-12-29 16:05:05,417\tWARNING trial.py:647 -- The path to the trial log directory is too long (max length: 260. Consider using `trial_dirname_creator` to shorten the path. Path: C:\\Users\\Alesi\\AppData\\Local\\Temp\\ray\\session_2024-12-29_15-49-27_446798_14908\\artifacts\\2024-12-29_16-05-05\\tune_training_2024-12-29_16-05-05\\driver_artifacts\\tune_training_3b1d2_00003_3_depth=1,dropout=0.2234,lr=0.0002,nbatch=64,nhidden=108_2024-12-29_16-05-05\n",
      "2024-12-29 16:05:05,421\tWARNING trial.py:647 -- The path to the trial log directory is too long (max length: 260. Consider using `trial_dirname_creator` to shorten the path. Path: C:\\Users\\Alesi\\AppData\\Local\\Temp\\ray\\session_2024-12-29_15-49-27_446798_14908\\artifacts\\2024-12-29_16-05-05\\tune_training_2024-12-29_16-05-05\\driver_artifacts\\tune_training_3b1d2_00004_4_depth=1,dropout=0.0684,lr=0.0002,nbatch=16,nhidden=18_2024-12-29_16-05-05\n",
      "2024-12-29 16:05:05,425\tWARNING trial.py:647 -- The path to the trial log directory is too long (max length: 260. Consider using `trial_dirname_creator` to shorten the path. Path: C:\\Users\\Alesi\\AppData\\Local\\Temp\\ray\\session_2024-12-29_15-49-27_446798_14908\\artifacts\\2024-12-29_16-05-05\\tune_training_2024-12-29_16-05-05\\driver_artifacts\\tune_training_3b1d2_00004_4_depth=1,dropout=0.0684,lr=0.0002,nbatch=16,nhidden=18_2024-12-29_16-05-05\n",
      "2024-12-29 16:05:05,428\tWARNING trial.py:647 -- The path to the trial log directory is too long (max length: 260. Consider using `trial_dirname_creator` to shorten the path. Path: C:\\Users\\Alesi\\AppData\\Local\\Temp\\ray\\session_2024-12-29_15-49-27_446798_14908\\artifacts\\2024-12-29_16-05-05\\tune_training_2024-12-29_16-05-05\\driver_artifacts\\tune_training_3b1d2_00005_5_depth=1,dropout=0.4075,lr=0.0018,nbatch=32,nhidden=38_2024-12-29_16-05-05\n",
      "2024-12-29 16:05:05,431\tWARNING trial.py:647 -- The path to the trial log directory is too long (max length: 260. Consider using `trial_dirname_creator` to shorten the path. Path: C:\\Users\\Alesi\\AppData\\Local\\Temp\\ray\\session_2024-12-29_15-49-27_446798_14908\\artifacts\\2024-12-29_16-05-05\\tune_training_2024-12-29_16-05-05\\driver_artifacts\\tune_training_3b1d2_00005_5_depth=1,dropout=0.4075,lr=0.0018,nbatch=32,nhidden=38_2024-12-29_16-05-05\n",
      "2024-12-29 16:05:05,436\tWARNING trial.py:647 -- The path to the trial log directory is too long (max length: 260. Consider using `trial_dirname_creator` to shorten the path. Path: C:\\Users\\Alesi\\AppData\\Local\\Temp\\ray\\session_2024-12-29_15-49-27_446798_14908\\artifacts\\2024-12-29_16-05-05\\tune_training_2024-12-29_16-05-05\\driver_artifacts\\tune_training_3b1d2_00006_6_depth=1,dropout=0.4815,lr=0.0015,nbatch=16,nhidden=32_2024-12-29_16-05-05\n",
      "2024-12-29 16:05:05,439\tWARNING trial.py:647 -- The path to the trial log directory is too long (max length: 260. Consider using `trial_dirname_creator` to shorten the path. Path: C:\\Users\\Alesi\\AppData\\Local\\Temp\\ray\\session_2024-12-29_15-49-27_446798_14908\\artifacts\\2024-12-29_16-05-05\\tune_training_2024-12-29_16-05-05\\driver_artifacts\\tune_training_3b1d2_00006_6_depth=1,dropout=0.4815,lr=0.0015,nbatch=16,nhidden=32_2024-12-29_16-05-05\n",
      "2024-12-29 16:05:05,442\tWARNING trial.py:647 -- The path to the trial log directory is too long (max length: 260. Consider using `trial_dirname_creator` to shorten the path. Path: C:\\Users\\Alesi\\AppData\\Local\\Temp\\ray\\session_2024-12-29_15-49-27_446798_14908\\artifacts\\2024-12-29_16-05-05\\tune_training_2024-12-29_16-05-05\\driver_artifacts\\tune_training_3b1d2_00007_7_depth=1,dropout=0.4030,lr=0.0021,nbatch=32,nhidden=92_2024-12-29_16-05-05\n",
      "2024-12-29 16:05:05,445\tWARNING trial.py:647 -- The path to the trial log directory is too long (max length: 260. Consider using `trial_dirname_creator` to shorten the path. Path: C:\\Users\\Alesi\\AppData\\Local\\Temp\\ray\\session_2024-12-29_15-49-27_446798_14908\\artifacts\\2024-12-29_16-05-05\\tune_training_2024-12-29_16-05-05\\driver_artifacts\\tune_training_3b1d2_00007_7_depth=1,dropout=0.4030,lr=0.0021,nbatch=32,nhidden=92_2024-12-29_16-05-05\n",
      "2024-12-29 16:05:05,449\tWARNING trial.py:647 -- The path to the trial log directory is too long (max length: 260. Consider using `trial_dirname_creator` to shorten the path. Path: C:\\Users\\Alesi\\AppData\\Local\\Temp\\ray\\session_2024-12-29_15-49-27_446798_14908\\artifacts\\2024-12-29_16-05-05\\tune_training_2024-12-29_16-05-05\\driver_artifacts\\tune_training_3b1d2_00008_8_depth=1,dropout=0.4593,lr=0.0005,nbatch=8,nhidden=18_2024-12-29_16-05-05\n",
      "2024-12-29 16:05:05,452\tWARNING trial.py:647 -- The path to the trial log directory is too long (max length: 260. Consider using `trial_dirname_creator` to shorten the path. Path: C:\\Users\\Alesi\\AppData\\Local\\Temp\\ray\\session_2024-12-29_15-49-27_446798_14908\\artifacts\\2024-12-29_16-05-05\\tune_training_2024-12-29_16-05-05\\driver_artifacts\\tune_training_3b1d2_00008_8_depth=1,dropout=0.4593,lr=0.0005,nbatch=8,nhidden=18_2024-12-29_16-05-05\n",
      "2024-12-29 16:05:05,456\tWARNING trial.py:647 -- The path to the trial log directory is too long (max length: 260. Consider using `trial_dirname_creator` to shorten the path. Path: C:\\Users\\Alesi\\AppData\\Local\\Temp\\ray\\session_2024-12-29_15-49-27_446798_14908\\artifacts\\2024-12-29_16-05-05\\tune_training_2024-12-29_16-05-05\\driver_artifacts\\tune_training_3b1d2_00009_9_depth=1,dropout=0.3490,lr=0.0005,nbatch=8,nhidden=95_2024-12-29_16-05-05\n",
      "2024-12-29 16:05:05,459\tWARNING trial.py:647 -- The path to the trial log directory is too long (max length: 260. Consider using `trial_dirname_creator` to shorten the path. Path: C:\\Users\\Alesi\\AppData\\Local\\Temp\\ray\\session_2024-12-29_15-49-27_446798_14908\\artifacts\\2024-12-29_16-05-05\\tune_training_2024-12-29_16-05-05\\driver_artifacts\\tune_training_3b1d2_00009_9_depth=1,dropout=0.3490,lr=0.0005,nbatch=8,nhidden=95_2024-12-29_16-05-05\n",
      "2024-12-29 16:05:10,951\tWARNING trial.py:647 -- The path to the trial log directory is too long (max length: 260. Consider using `trial_dirname_creator` to shorten the path. Path: C:\\Users\\Alesi\\AppData\\Local\\Temp\\ray\\session_2024-12-29_15-49-27_446798_14908\\artifacts\\2024-12-29_16-05-05\\tune_training_2024-12-29_16-05-05\\driver_artifacts\\tune_training_3b1d2_00000_0_depth=1,dropout=0.2686,lr=0.0001,nbatch=32,nhidden=53_2024-12-29_16-05-05\n",
      "2024-12-29 16:05:10,955\tWARNING trial.py:647 -- The path to the trial log directory is too long (max length: 260. Consider using `trial_dirname_creator` to shorten the path. Path: C:\\Users\\Alesi\\AppData\\Local\\Temp\\ray\\session_2024-12-29_15-49-27_446798_14908\\artifacts\\2024-12-29_16-05-05\\tune_training_2024-12-29_16-05-05\\driver_artifacts\\tune_training_3b1d2_00000_0_depth=1,dropout=0.2686,lr=0.0001,nbatch=32,nhidden=53_2024-12-29_16-05-05\n",
      "2024-12-29 16:05:10,961\tWARNING trial.py:647 -- The path to the trial log directory is too long (max length: 260. Consider using `trial_dirname_creator` to shorten the path. Path: C:\\Users\\Alesi\\AppData\\Local\\Temp\\ray\\session_2024-12-29_15-49-27_446798_14908\\artifacts\\2024-12-29_16-05-05\\tune_training_2024-12-29_16-05-05\\driver_artifacts\\tune_training_3b1d2_00006_6_depth=1,dropout=0.4815,lr=0.0015,nbatch=16,nhidden=32_2024-12-29_16-05-05\n",
      "2024-12-29 16:05:10,963\tWARNING trial.py:647 -- The path to the trial log directory is too long (max length: 260. Consider using `trial_dirname_creator` to shorten the path. Path: C:\\Users\\Alesi\\AppData\\Local\\Temp\\ray\\session_2024-12-29_15-49-27_446798_14908\\artifacts\\2024-12-29_16-05-05\\tune_training_2024-12-29_16-05-05\\driver_artifacts\\tune_training_3b1d2_00006_6_depth=1,dropout=0.4815,lr=0.0015,nbatch=16,nhidden=32_2024-12-29_16-05-05\n",
      "2024-12-29 16:05:10,982\tWARNING trial.py:647 -- The path to the trial log directory is too long (max length: 260. Consider using `trial_dirname_creator` to shorten the path. Path: C:\\Users\\Alesi\\AppData\\Local\\Temp\\ray\\session_2024-12-29_15-49-27_446798_14908\\artifacts\\2024-12-29_16-05-05\\tune_training_2024-12-29_16-05-05\\driver_artifacts\\tune_training_3b1d2_00003_3_depth=1,dropout=0.2234,lr=0.0002,nbatch=64,nhidden=108_2024-12-29_16-05-05\n",
      "2024-12-29 16:05:10,984\tWARNING trial.py:647 -- The path to the trial log directory is too long (max length: 260. Consider using `trial_dirname_creator` to shorten the path. Path: C:\\Users\\Alesi\\AppData\\Local\\Temp\\ray\\session_2024-12-29_15-49-27_446798_14908\\artifacts\\2024-12-29_16-05-05\\tune_training_2024-12-29_16-05-05\\driver_artifacts\\tune_training_3b1d2_00003_3_depth=1,dropout=0.2234,lr=0.0002,nbatch=64,nhidden=108_2024-12-29_16-05-05\n",
      "2024-12-29 16:05:10,991\tWARNING trial.py:647 -- The path to the trial log directory is too long (max length: 260. Consider using `trial_dirname_creator` to shorten the path. Path: C:\\Users\\Alesi\\AppData\\Local\\Temp\\ray\\session_2024-12-29_15-49-27_446798_14908\\artifacts\\2024-12-29_16-05-05\\tune_training_2024-12-29_16-05-05\\driver_artifacts\\tune_training_3b1d2_00004_4_depth=1,dropout=0.0684,lr=0.0002,nbatch=16,nhidden=18_2024-12-29_16-05-05\n",
      "2024-12-29 16:05:10,994\tWARNING trial.py:647 -- The path to the trial log directory is too long (max length: 260. Consider using `trial_dirname_creator` to shorten the path. Path: C:\\Users\\Alesi\\AppData\\Local\\Temp\\ray\\session_2024-12-29_15-49-27_446798_14908\\artifacts\\2024-12-29_16-05-05\\tune_training_2024-12-29_16-05-05\\driver_artifacts\\tune_training_3b1d2_00004_4_depth=1,dropout=0.0684,lr=0.0002,nbatch=16,nhidden=18_2024-12-29_16-05-05\n",
      "2024-12-29 16:05:11,007\tWARNING trial.py:647 -- The path to the trial log directory is too long (max length: 260. Consider using `trial_dirname_creator` to shorten the path. Path: C:\\Users\\Alesi\\AppData\\Local\\Temp\\ray\\session_2024-12-29_15-49-27_446798_14908\\artifacts\\2024-12-29_16-05-05\\tune_training_2024-12-29_16-05-05\\driver_artifacts\\tune_training_3b1d2_00008_8_depth=1,dropout=0.4593,lr=0.0005,nbatch=8,nhidden=18_2024-12-29_16-05-05\n",
      "2024-12-29 16:05:11,010\tWARNING trial.py:647 -- The path to the trial log directory is too long (max length: 260. Consider using `trial_dirname_creator` to shorten the path. Path: C:\\Users\\Alesi\\AppData\\Local\\Temp\\ray\\session_2024-12-29_15-49-27_446798_14908\\artifacts\\2024-12-29_16-05-05\\tune_training_2024-12-29_16-05-05\\driver_artifacts\\tune_training_3b1d2_00008_8_depth=1,dropout=0.4593,lr=0.0005,nbatch=8,nhidden=18_2024-12-29_16-05-05\n",
      "2024-12-29 16:05:11,018\tWARNING trial.py:647 -- The path to the trial log directory is too long (max length: 260. Consider using `trial_dirname_creator` to shorten the path. Path: C:\\Users\\Alesi\\AppData\\Local\\Temp\\ray\\session_2024-12-29_15-49-27_446798_14908\\artifacts\\2024-12-29_16-05-05\\tune_training_2024-12-29_16-05-05\\driver_artifacts\\tune_training_3b1d2_00009_9_depth=1,dropout=0.3490,lr=0.0005,nbatch=8,nhidden=95_2024-12-29_16-05-05\n",
      "2024-12-29 16:05:11,021\tWARNING trial.py:647 -- The path to the trial log directory is too long (max length: 260. Consider using `trial_dirname_creator` to shorten the path. Path: C:\\Users\\Alesi\\AppData\\Local\\Temp\\ray\\session_2024-12-29_15-49-27_446798_14908\\artifacts\\2024-12-29_16-05-05\\tune_training_2024-12-29_16-05-05\\driver_artifacts\\tune_training_3b1d2_00009_9_depth=1,dropout=0.3490,lr=0.0005,nbatch=8,nhidden=95_2024-12-29_16-05-05\n",
      "2024-12-29 16:05:11,044\tWARNING trial.py:647 -- The path to the trial log directory is too long (max length: 260. Consider using `trial_dirname_creator` to shorten the path. Path: C:\\Users\\Alesi\\AppData\\Local\\Temp\\ray\\session_2024-12-29_15-49-27_446798_14908\\artifacts\\2024-12-29_16-05-05\\tune_training_2024-12-29_16-05-05\\driver_artifacts\\tune_training_3b1d2_00002_2_depth=1,dropout=0.4658,lr=0.0002,nbatch=8,nhidden=95_2024-12-29_16-05-05\n",
      "2024-12-29 16:05:11,046\tWARNING trial.py:647 -- The path to the trial log directory is too long (max length: 260. Consider using `trial_dirname_creator` to shorten the path. Path: C:\\Users\\Alesi\\AppData\\Local\\Temp\\ray\\session_2024-12-29_15-49-27_446798_14908\\artifacts\\2024-12-29_16-05-05\\tune_training_2024-12-29_16-05-05\\driver_artifacts\\tune_training_3b1d2_00002_2_depth=1,dropout=0.4658,lr=0.0002,nbatch=8,nhidden=95_2024-12-29_16-05-05\n",
      "2024-12-29 16:05:11,061\tWARNING trial.py:647 -- The path to the trial log directory is too long (max length: 260. Consider using `trial_dirname_creator` to shorten the path. Path: C:\\Users\\Alesi\\AppData\\Local\\Temp\\ray\\session_2024-12-29_15-49-27_446798_14908\\artifacts\\2024-12-29_16-05-05\\tune_training_2024-12-29_16-05-05\\driver_artifacts\\tune_training_3b1d2_00007_7_depth=1,dropout=0.4030,lr=0.0021,nbatch=32,nhidden=92_2024-12-29_16-05-05\n",
      "2024-12-29 16:05:11,062\tWARNING trial.py:647 -- The path to the trial log directory is too long (max length: 260. Consider using `trial_dirname_creator` to shorten the path. Path: C:\\Users\\Alesi\\AppData\\Local\\Temp\\ray\\session_2024-12-29_15-49-27_446798_14908\\artifacts\\2024-12-29_16-05-05\\tune_training_2024-12-29_16-05-05\\driver_artifacts\\tune_training_3b1d2_00007_7_depth=1,dropout=0.4030,lr=0.0021,nbatch=32,nhidden=92_2024-12-29_16-05-05\n",
      "2024-12-29 16:05:11,074\tWARNING trial.py:647 -- The path to the trial log directory is too long (max length: 260. Consider using `trial_dirname_creator` to shorten the path. Path: C:\\Users\\Alesi\\AppData\\Local\\Temp\\ray\\session_2024-12-29_15-49-27_446798_14908\\artifacts\\2024-12-29_16-05-05\\tune_training_2024-12-29_16-05-05\\driver_artifacts\\tune_training_3b1d2_00005_5_depth=1,dropout=0.4075,lr=0.0018,nbatch=32,nhidden=38_2024-12-29_16-05-05\n",
      "2024-12-29 16:05:11,075\tWARNING trial.py:647 -- The path to the trial log directory is too long (max length: 260. Consider using `trial_dirname_creator` to shorten the path. Path: C:\\Users\\Alesi\\AppData\\Local\\Temp\\ray\\session_2024-12-29_15-49-27_446798_14908\\artifacts\\2024-12-29_16-05-05\\tune_training_2024-12-29_16-05-05\\driver_artifacts\\tune_training_3b1d2_00005_5_depth=1,dropout=0.4075,lr=0.0018,nbatch=32,nhidden=38_2024-12-29_16-05-05\n",
      "2024-12-29 16:05:11,153\tWARNING trial.py:647 -- The path to the trial log directory is too long (max length: 260. Consider using `trial_dirname_creator` to shorten the path. Path: C:\\Users\\Alesi\\AppData\\Local\\Temp\\ray\\session_2024-12-29_15-49-27_446798_14908\\artifacts\\2024-12-29_16-05-05\\tune_training_2024-12-29_16-05-05\\driver_artifacts\\tune_training_3b1d2_00001_1_depth=1,dropout=0.3167,lr=0.0003,nbatch=32,nhidden=63_2024-12-29_16-05-05\n",
      "2024-12-29 16:05:11,156\tWARNING trial.py:647 -- The path to the trial log directory is too long (max length: 260. Consider using `trial_dirname_creator` to shorten the path. Path: C:\\Users\\Alesi\\AppData\\Local\\Temp\\ray\\session_2024-12-29_15-49-27_446798_14908\\artifacts\\2024-12-29_16-05-05\\tune_training_2024-12-29_16-05-05\\driver_artifacts\\tune_training_3b1d2_00001_1_depth=1,dropout=0.3167,lr=0.0003,nbatch=32,nhidden=63_2024-12-29_16-05-05\n"
     ]
    },
    {
     "name": "stdout",
     "output_type": "stream",
     "text": [
      "\u001b[36m(tune_training pid=3560)\u001b[0m Total parameters: 1189\n"
     ]
    },
    {
     "name": "stderr",
     "output_type": "stream",
     "text": [
      "2024-12-29 16:05:11,948\tWARNING trial.py:647 -- The path to the trial log directory is too long (max length: 260. Consider using `trial_dirname_creator` to shorten the path. Path: C:\\Users\\Alesi\\AppData\\Local\\Temp\\ray\\session_2024-12-29_15-49-27_446798_14908\\artifacts\\2024-12-29_16-05-05\\tune_training_2024-12-29_16-05-05\\driver_artifacts\\tune_training_3b1d2_00003_3_depth=1,dropout=0.2234,lr=0.0002,nbatch=64,nhidden=108_2024-12-29_16-05-05\n",
      "2024-12-29 16:05:11,976\tWARNING trial.py:647 -- The path to the trial log directory is too long (max length: 260. Consider using `trial_dirname_creator` to shorten the path. Path: C:\\Users\\Alesi\\AppData\\Local\\Temp\\ray\\session_2024-12-29_15-49-27_446798_14908\\artifacts\\2024-12-29_16-05-05\\tune_training_2024-12-29_16-05-05\\driver_artifacts\\tune_training_3b1d2_00000_0_depth=1,dropout=0.2686,lr=0.0001,nbatch=32,nhidden=53_2024-12-29_16-05-05\n",
      "2024-12-29 16:05:11,983\tWARNING trial.py:647 -- The path to the trial log directory is too long (max length: 260. Consider using `trial_dirname_creator` to shorten the path. Path: C:\\Users\\Alesi\\AppData\\Local\\Temp\\ray\\session_2024-12-29_15-49-27_446798_14908\\artifacts\\2024-12-29_16-05-05\\tune_training_2024-12-29_16-05-05\\driver_artifacts\\tune_training_3b1d2_00007_7_depth=1,dropout=0.4030,lr=0.0021,nbatch=32,nhidden=92_2024-12-29_16-05-05\n",
      "2024-12-29 16:05:12,004\tWARNING trial.py:647 -- The path to the trial log directory is too long (max length: 260. Consider using `trial_dirname_creator` to shorten the path. Path: C:\\Users\\Alesi\\AppData\\Local\\Temp\\ray\\session_2024-12-29_15-49-27_446798_14908\\artifacts\\2024-12-29_16-05-05\\tune_training_2024-12-29_16-05-05\\driver_artifacts\\tune_training_3b1d2_00005_5_depth=1,dropout=0.4075,lr=0.0018,nbatch=32,nhidden=38_2024-12-29_16-05-05\n",
      "2024-12-29 16:05:12,016\tWARNING trial.py:647 -- The path to the trial log directory is too long (max length: 260. Consider using `trial_dirname_creator` to shorten the path. Path: C:\\Users\\Alesi\\AppData\\Local\\Temp\\ray\\session_2024-12-29_15-49-27_446798_14908\\artifacts\\2024-12-29_16-05-05\\tune_training_2024-12-29_16-05-05\\driver_artifacts\\tune_training_3b1d2_00001_1_depth=1,dropout=0.3167,lr=0.0003,nbatch=32,nhidden=63_2024-12-29_16-05-05\n",
      "\u001b[36m(tune_training pid=3560)\u001b[0m Checkpoint successfully created at: Checkpoint(filesystem=local, path=C:/Users/Alesi/work/minGRU-pytorch/tune_training_2024-12-29_16-05-05/tune_training_3b1d2_00003_3_depth=1,dropout=0.2234,lr=0.0002,nbatch=64,nhidden=108_2024-12-29_16-05-05/checkpoint_000000)\n",
      "2024-12-29 16:05:12,187\tWARNING trial.py:647 -- The path to the trial log directory is too long (max length: 260. Consider using `trial_dirname_creator` to shorten the path. Path: C:\\Users\\Alesi\\AppData\\Local\\Temp\\ray\\session_2024-12-29_15-49-27_446798_14908\\artifacts\\2024-12-29_16-05-05\\tune_training_2024-12-29_16-05-05\\driver_artifacts\\tune_training_3b1d2_00006_6_depth=1,dropout=0.4815,lr=0.0015,nbatch=16,nhidden=32_2024-12-29_16-05-05\n",
      "2024-12-29 16:05:12,234\tWARNING trial.py:647 -- The path to the trial log directory is too long (max length: 260. Consider using `trial_dirname_creator` to shorten the path. Path: C:\\Users\\Alesi\\AppData\\Local\\Temp\\ray\\session_2024-12-29_15-49-27_446798_14908\\artifacts\\2024-12-29_16-05-05\\tune_training_2024-12-29_16-05-05\\driver_artifacts\\tune_training_3b1d2_00004_4_depth=1,dropout=0.0684,lr=0.0002,nbatch=16,nhidden=18_2024-12-29_16-05-05\n",
      "2024-12-29 16:05:12,664\tWARNING trial.py:647 -- The path to the trial log directory is too long (max length: 260. Consider using `trial_dirname_creator` to shorten the path. Path: C:\\Users\\Alesi\\AppData\\Local\\Temp\\ray\\session_2024-12-29_15-49-27_446798_14908\\artifacts\\2024-12-29_16-05-05\\tune_training_2024-12-29_16-05-05\\driver_artifacts\\tune_training_3b1d2_00008_8_depth=1,dropout=0.4593,lr=0.0005,nbatch=8,nhidden=18_2024-12-29_16-05-05\n",
      "2024-12-29 16:05:12,692\tWARNING trial.py:647 -- The path to the trial log directory is too long (max length: 260. Consider using `trial_dirname_creator` to shorten the path. Path: C:\\Users\\Alesi\\AppData\\Local\\Temp\\ray\\session_2024-12-29_15-49-27_446798_14908\\artifacts\\2024-12-29_16-05-05\\tune_training_2024-12-29_16-05-05\\driver_artifacts\\tune_training_3b1d2_00002_2_depth=1,dropout=0.4658,lr=0.0002,nbatch=8,nhidden=95_2024-12-29_16-05-05\n",
      "2024-12-29 16:05:12,761\tWARNING trial.py:647 -- The path to the trial log directory is too long (max length: 260. Consider using `trial_dirname_creator` to shorten the path. Path: C:\\Users\\Alesi\\AppData\\Local\\Temp\\ray\\session_2024-12-29_15-49-27_446798_14908\\artifacts\\2024-12-29_16-05-05\\tune_training_2024-12-29_16-05-05\\driver_artifacts\\tune_training_3b1d2_00009_9_depth=1,dropout=0.3490,lr=0.0005,nbatch=8,nhidden=95_2024-12-29_16-05-05\n",
      "2024-12-29 16:05:14,426\tWARNING experiment_state.py:206 -- Experiment state snapshotting has been triggered multiple times in the last 5.0 seconds and may become a bottleneck. A snapshot is forced if `CheckpointConfig(num_to_keep)` is set, and a trial has checkpointed >= `num_to_keep` times since the last snapshot.\n",
      "You may want to consider increasing the `CheckpointConfig(num_to_keep)` or decreasing the frequency of saving checkpoints.\n",
      "You can suppress this warning by setting the environment variable TUNE_WARN_EXCESSIVE_EXPERIMENT_CHECKPOINT_SYNC_THRESHOLD_S to a smaller value than the current threshold (5.0). Set it to 0 to completely suppress this warning.\n",
      "2024-12-29 16:05:16,277\tWARNING experiment_state.py:206 -- Experiment state snapshotting has been triggered multiple times in the last 5.0 seconds and may become a bottleneck. A snapshot is forced if `CheckpointConfig(num_to_keep)` is set, and a trial has checkpointed >= `num_to_keep` times since the last snapshot.\n",
      "You may want to consider increasing the `CheckpointConfig(num_to_keep)` or decreasing the frequency of saving checkpoints.\n",
      "You can suppress this warning by setting the environment variable TUNE_WARN_EXCESSIVE_EXPERIMENT_CHECKPOINT_SYNC_THRESHOLD_S to a smaller value than the current threshold (5.0). Set it to 0 to completely suppress this warning.\n",
      "\u001b[36m(tune_training pid=3560)\u001b[0m Checkpoint successfully created at: Checkpoint(filesystem=local, path=C:/Users/Alesi/work/minGRU-pytorch/tune_training_2024-12-29_16-05-05/tune_training_3b1d2_00003_3_depth=1,dropout=0.2234,lr=0.0002,nbatch=64,nhidden=108_2024-12-29_16-05-05/checkpoint_000016)\u001b[32m [repeated 93x across cluster]\u001b[0m\n",
      "2024-12-29 16:05:18,274\tWARNING experiment_state.py:206 -- Experiment state snapshotting has been triggered multiple times in the last 5.0 seconds and may become a bottleneck. A snapshot is forced if `CheckpointConfig(num_to_keep)` is set, and a trial has checkpointed >= `num_to_keep` times since the last snapshot.\n",
      "You may want to consider increasing the `CheckpointConfig(num_to_keep)` or decreasing the frequency of saving checkpoints.\n",
      "You can suppress this warning by setting the environment variable TUNE_WARN_EXCESSIVE_EXPERIMENT_CHECKPOINT_SYNC_THRESHOLD_S to a smaller value than the current threshold (5.0). Set it to 0 to completely suppress this warning.\n",
      "2024-12-29 16:05:20,389\tWARNING experiment_state.py:206 -- Experiment state snapshotting has been triggered multiple times in the last 5.0 seconds and may become a bottleneck. A snapshot is forced if `CheckpointConfig(num_to_keep)` is set, and a trial has checkpointed >= `num_to_keep` times since the last snapshot.\n",
      "You may want to consider increasing the `CheckpointConfig(num_to_keep)` or decreasing the frequency of saving checkpoints.\n",
      "You can suppress this warning by setting the environment variable TUNE_WARN_EXCESSIVE_EXPERIMENT_CHECKPOINT_SYNC_THRESHOLD_S to a smaller value than the current threshold (5.0). Set it to 0 to completely suppress this warning.\n",
      "\u001b[36m(tune_training pid=3560)\u001b[0m Checkpoint successfully created at: Checkpoint(filesystem=local, path=C:/Users/Alesi/work/minGRU-pytorch/tune_training_2024-12-29_16-05-05/tune_training_3b1d2_00003_3_depth=1,dropout=0.2234,lr=0.0002,nbatch=64,nhidden=108_2024-12-29_16-05-05/checkpoint_000028)\u001b[32m [repeated 64x across cluster]\u001b[0m\n",
      "2024-12-29 16:05:22,559\tWARNING experiment_state.py:206 -- Experiment state snapshotting has been triggered multiple times in the last 5.0 seconds and may become a bottleneck. A snapshot is forced if `CheckpointConfig(num_to_keep)` is set, and a trial has checkpointed >= `num_to_keep` times since the last snapshot.\n",
      "You may want to consider increasing the `CheckpointConfig(num_to_keep)` or decreasing the frequency of saving checkpoints.\n",
      "You can suppress this warning by setting the environment variable TUNE_WARN_EXCESSIVE_EXPERIMENT_CHECKPOINT_SYNC_THRESHOLD_S to a smaller value than the current threshold (5.0). Set it to 0 to completely suppress this warning.\n",
      "2024-12-29 16:05:24,357\tWARNING experiment_state.py:206 -- Experiment state snapshotting has been triggered multiple times in the last 5.0 seconds and may become a bottleneck. A snapshot is forced if `CheckpointConfig(num_to_keep)` is set, and a trial has checkpointed >= `num_to_keep` times since the last snapshot.\n",
      "You may want to consider increasing the `CheckpointConfig(num_to_keep)` or decreasing the frequency of saving checkpoints.\n",
      "You can suppress this warning by setting the environment variable TUNE_WARN_EXCESSIVE_EXPERIMENT_CHECKPOINT_SYNC_THRESHOLD_S to a smaller value than the current threshold (5.0). Set it to 0 to completely suppress this warning.\n",
      "2024-12-29 16:05:26,185\tWARNING experiment_state.py:206 -- Experiment state snapshotting has been triggered multiple times in the last 5.0 seconds and may become a bottleneck. A snapshot is forced if `CheckpointConfig(num_to_keep)` is set, and a trial has checkpointed >= `num_to_keep` times since the last snapshot.\n",
      "You may want to consider increasing the `CheckpointConfig(num_to_keep)` or decreasing the frequency of saving checkpoints.\n",
      "You can suppress this warning by setting the environment variable TUNE_WARN_EXCESSIVE_EXPERIMENT_CHECKPOINT_SYNC_THRESHOLD_S to a smaller value than the current threshold (5.0). Set it to 0 to completely suppress this warning.\n",
      "\u001b[36m(tune_training pid=3560)\u001b[0m Checkpoint successfully created at: Checkpoint(filesystem=local, path=C:/Users/Alesi/work/minGRU-pytorch/tune_training_2024-12-29_16-05-05/tune_training_3b1d2_00003_3_depth=1,dropout=0.2234,lr=0.0002,nbatch=64,nhidden=108_2024-12-29_16-05-05/checkpoint_000042)\u001b[32m [repeated 58x across cluster]\u001b[0m\n",
      "2024-12-29 16:05:27,864\tWARNING experiment_state.py:206 -- Experiment state snapshotting has been triggered multiple times in the last 5.0 seconds and may become a bottleneck. A snapshot is forced if `CheckpointConfig(num_to_keep)` is set, and a trial has checkpointed >= `num_to_keep` times since the last snapshot.\n",
      "You may want to consider increasing the `CheckpointConfig(num_to_keep)` or decreasing the frequency of saving checkpoints.\n",
      "You can suppress this warning by setting the environment variable TUNE_WARN_EXCESSIVE_EXPERIMENT_CHECKPOINT_SYNC_THRESHOLD_S to a smaller value than the current threshold (5.0). Set it to 0 to completely suppress this warning.\n",
      "2024-12-29 16:05:29,531\tWARNING experiment_state.py:206 -- Experiment state snapshotting has been triggered multiple times in the last 5.0 seconds and may become a bottleneck. A snapshot is forced if `CheckpointConfig(num_to_keep)` is set, and a trial has checkpointed >= `num_to_keep` times since the last snapshot.\n",
      "You may want to consider increasing the `CheckpointConfig(num_to_keep)` or decreasing the frequency of saving checkpoints.\n",
      "You can suppress this warning by setting the environment variable TUNE_WARN_EXCESSIVE_EXPERIMENT_CHECKPOINT_SYNC_THRESHOLD_S to a smaller value than the current threshold (5.0). Set it to 0 to completely suppress this warning.\n",
      "2024-12-29 16:05:31,258\tWARNING experiment_state.py:206 -- Experiment state snapshotting has been triggered multiple times in the last 5.0 seconds and may become a bottleneck. A snapshot is forced if `CheckpointConfig(num_to_keep)` is set, and a trial has checkpointed >= `num_to_keep` times since the last snapshot.\n",
      "You may want to consider increasing the `CheckpointConfig(num_to_keep)` or decreasing the frequency of saving checkpoints.\n",
      "You can suppress this warning by setting the environment variable TUNE_WARN_EXCESSIVE_EXPERIMENT_CHECKPOINT_SYNC_THRESHOLD_S to a smaller value than the current threshold (5.0). Set it to 0 to completely suppress this warning.\n",
      "\u001b[36m(tune_training pid=19984)\u001b[0m Checkpoint successfully created at: Checkpoint(filesystem=local, path=C:/Users/Alesi/work/minGRU-pytorch/tune_training_2024-12-29_16-05-05/tune_training_3b1d2_00005_5_depth=1,dropout=0.4075,lr=0.0018,nbatch=32,nhidden=38_2024-12-29_16-05-05/checkpoint_000044)\u001b[32m [repeated 58x across cluster]\u001b[0m\n",
      "2024-12-29 16:05:32,861\tWARNING experiment_state.py:206 -- Experiment state snapshotting has been triggered multiple times in the last 5.0 seconds and may become a bottleneck. A snapshot is forced if `CheckpointConfig(num_to_keep)` is set, and a trial has checkpointed >= `num_to_keep` times since the last snapshot.\n",
      "You may want to consider increasing the `CheckpointConfig(num_to_keep)` or decreasing the frequency of saving checkpoints.\n",
      "You can suppress this warning by setting the environment variable TUNE_WARN_EXCESSIVE_EXPERIMENT_CHECKPOINT_SYNC_THRESHOLD_S to a smaller value than the current threshold (5.0). Set it to 0 to completely suppress this warning.\n",
      "2024-12-29 16:05:34,945\tWARNING experiment_state.py:206 -- Experiment state snapshotting has been triggered multiple times in the last 5.0 seconds and may become a bottleneck. A snapshot is forced if `CheckpointConfig(num_to_keep)` is set, and a trial has checkpointed >= `num_to_keep` times since the last snapshot.\n",
      "You may want to consider increasing the `CheckpointConfig(num_to_keep)` or decreasing the frequency of saving checkpoints.\n",
      "You can suppress this warning by setting the environment variable TUNE_WARN_EXCESSIVE_EXPERIMENT_CHECKPOINT_SYNC_THRESHOLD_S to a smaller value than the current threshold (5.0). Set it to 0 to completely suppress this warning.\n",
      "2024-12-29 16:05:36,700\tWARNING experiment_state.py:206 -- Experiment state snapshotting has been triggered multiple times in the last 5.0 seconds and may become a bottleneck. A snapshot is forced if `CheckpointConfig(num_to_keep)` is set, and a trial has checkpointed >= `num_to_keep` times since the last snapshot.\n",
      "You may want to consider increasing the `CheckpointConfig(num_to_keep)` or decreasing the frequency of saving checkpoints.\n",
      "You can suppress this warning by setting the environment variable TUNE_WARN_EXCESSIVE_EXPERIMENT_CHECKPOINT_SYNC_THRESHOLD_S to a smaller value than the current threshold (5.0). Set it to 0 to completely suppress this warning.\n",
      "\u001b[36m(tune_training pid=43492)\u001b[0m Checkpoint successfully created at: Checkpoint(filesystem=local, path=C:/Users/Alesi/work/minGRU-pytorch/tune_training_2024-12-29_16-05-05/tune_training_3b1d2_00008_8_depth=1,dropout=0.4593,lr=0.0005,nbatch=8,nhidden=18_2024-12-29_16-05-05/checkpoint_000018)\u001b[32m [repeated 53x across cluster]\u001b[0m\n",
      "2024-12-29 16:05:38,527\tWARNING experiment_state.py:206 -- Experiment state snapshotting has been triggered multiple times in the last 5.0 seconds and may become a bottleneck. A snapshot is forced if `CheckpointConfig(num_to_keep)` is set, and a trial has checkpointed >= `num_to_keep` times since the last snapshot.\n",
      "You may want to consider increasing the `CheckpointConfig(num_to_keep)` or decreasing the frequency of saving checkpoints.\n",
      "You can suppress this warning by setting the environment variable TUNE_WARN_EXCESSIVE_EXPERIMENT_CHECKPOINT_SYNC_THRESHOLD_S to a smaller value than the current threshold (5.0). Set it to 0 to completely suppress this warning.\n",
      "2024-12-29 16:05:40,450\tWARNING experiment_state.py:206 -- Experiment state snapshotting has been triggered multiple times in the last 5.0 seconds and may become a bottleneck. A snapshot is forced if `CheckpointConfig(num_to_keep)` is set, and a trial has checkpointed >= `num_to_keep` times since the last snapshot.\n",
      "You may want to consider increasing the `CheckpointConfig(num_to_keep)` or decreasing the frequency of saving checkpoints.\n",
      "You can suppress this warning by setting the environment variable TUNE_WARN_EXCESSIVE_EXPERIMENT_CHECKPOINT_SYNC_THRESHOLD_S to a smaller value than the current threshold (5.0). Set it to 0 to completely suppress this warning.\n",
      "2024-12-29 16:05:42,428\tWARNING experiment_state.py:206 -- Experiment state snapshotting has been triggered multiple times in the last 5.0 seconds and may become a bottleneck. A snapshot is forced if `CheckpointConfig(num_to_keep)` is set, and a trial has checkpointed >= `num_to_keep` times since the last snapshot.\n",
      "You may want to consider increasing the `CheckpointConfig(num_to_keep)` or decreasing the frequency of saving checkpoints.\n",
      "You can suppress this warning by setting the environment variable TUNE_WARN_EXCESSIVE_EXPERIMENT_CHECKPOINT_SYNC_THRESHOLD_S to a smaller value than the current threshold (5.0). Set it to 0 to completely suppress this warning.\n",
      "\u001b[36m(tune_training pid=3560)\u001b[0m Checkpoint successfully created at: Checkpoint(filesystem=local, path=C:/Users/Alesi/work/minGRU-pytorch/tune_training_2024-12-29_16-05-05/tune_training_3b1d2_00003_3_depth=1,dropout=0.2234,lr=0.0002,nbatch=64,nhidden=108_2024-12-29_16-05-05/checkpoint_000085)\u001b[32m [repeated 46x across cluster]\u001b[0m\n",
      "2024-12-29 16:05:44,118\tWARNING experiment_state.py:206 -- Experiment state snapshotting has been triggered multiple times in the last 5.0 seconds and may become a bottleneck. A snapshot is forced if `CheckpointConfig(num_to_keep)` is set, and a trial has checkpointed >= `num_to_keep` times since the last snapshot.\n",
      "You may want to consider increasing the `CheckpointConfig(num_to_keep)` or decreasing the frequency of saving checkpoints.\n",
      "You can suppress this warning by setting the environment variable TUNE_WARN_EXCESSIVE_EXPERIMENT_CHECKPOINT_SYNC_THRESHOLD_S to a smaller value than the current threshold (5.0). Set it to 0 to completely suppress this warning.\n",
      "2024-12-29 16:05:46,072\tWARNING experiment_state.py:206 -- Experiment state snapshotting has been triggered multiple times in the last 5.0 seconds and may become a bottleneck. A snapshot is forced if `CheckpointConfig(num_to_keep)` is set, and a trial has checkpointed >= `num_to_keep` times since the last snapshot.\n",
      "You may want to consider increasing the `CheckpointConfig(num_to_keep)` or decreasing the frequency of saving checkpoints.\n",
      "You can suppress this warning by setting the environment variable TUNE_WARN_EXCESSIVE_EXPERIMENT_CHECKPOINT_SYNC_THRESHOLD_S to a smaller value than the current threshold (5.0). Set it to 0 to completely suppress this warning.\n",
      "2024-12-29 16:05:47,822\tWARNING experiment_state.py:206 -- Experiment state snapshotting has been triggered multiple times in the last 5.0 seconds and may become a bottleneck. A snapshot is forced if `CheckpointConfig(num_to_keep)` is set, and a trial has checkpointed >= `num_to_keep` times since the last snapshot.\n",
      "You may want to consider increasing the `CheckpointConfig(num_to_keep)` or decreasing the frequency of saving checkpoints.\n",
      "You can suppress this warning by setting the environment variable TUNE_WARN_EXCESSIVE_EXPERIMENT_CHECKPOINT_SYNC_THRESHOLD_S to a smaller value than the current threshold (5.0). Set it to 0 to completely suppress this warning.\n",
      "\u001b[36m(tune_training pid=3560)\u001b[0m Checkpoint successfully created at: Checkpoint(filesystem=local, path=C:/Users/Alesi/work/minGRU-pytorch/tune_training_2024-12-29_16-05-05/tune_training_3b1d2_00003_3_depth=1,dropout=0.2234,lr=0.0002,nbatch=64,nhidden=108_2024-12-29_16-05-05/checkpoint_000099)\u001b[32m [repeated 46x across cluster]\u001b[0m\n",
      "2024-12-29 16:05:50,601\tWARNING experiment_state.py:206 -- Experiment state snapshotting has been triggered multiple times in the last 5.0 seconds and may become a bottleneck. A snapshot is forced if `CheckpointConfig(num_to_keep)` is set, and a trial has checkpointed >= `num_to_keep` times since the last snapshot.\n",
      "You may want to consider increasing the `CheckpointConfig(num_to_keep)` or decreasing the frequency of saving checkpoints.\n",
      "You can suppress this warning by setting the environment variable TUNE_WARN_EXCESSIVE_EXPERIMENT_CHECKPOINT_SYNC_THRESHOLD_S to a smaller value than the current threshold (5.0). Set it to 0 to completely suppress this warning.\n",
      "2024-12-29 16:05:52,240\tWARNING experiment_state.py:206 -- Experiment state snapshotting has been triggered multiple times in the last 5.0 seconds and may become a bottleneck. A snapshot is forced if `CheckpointConfig(num_to_keep)` is set, and a trial has checkpointed >= `num_to_keep` times since the last snapshot.\n",
      "You may want to consider increasing the `CheckpointConfig(num_to_keep)` or decreasing the frequency of saving checkpoints.\n",
      "You can suppress this warning by setting the environment variable TUNE_WARN_EXCESSIVE_EXPERIMENT_CHECKPOINT_SYNC_THRESHOLD_S to a smaller value than the current threshold (5.0). Set it to 0 to completely suppress this warning.\n",
      "\u001b[36m(tune_training pid=30152)\u001b[0m Checkpoint successfully created at: Checkpoint(filesystem=local, path=C:/Users/Alesi/work/minGRU-pytorch/tune_training_2024-12-29_16-05-05/tune_training_3b1d2_00007_7_depth=1,dropout=0.4030,lr=0.0021,nbatch=32,nhidden=92_2024-12-29_16-05-05/checkpoint_000081)\u001b[32m [repeated 31x across cluster]\u001b[0m\n",
      "2024-12-29 16:05:54,173\tWARNING experiment_state.py:206 -- Experiment state snapshotting has been triggered multiple times in the last 5.0 seconds and may become a bottleneck. A snapshot is forced if `CheckpointConfig(num_to_keep)` is set, and a trial has checkpointed >= `num_to_keep` times since the last snapshot.\n",
      "You may want to consider increasing the `CheckpointConfig(num_to_keep)` or decreasing the frequency of saving checkpoints.\n",
      "You can suppress this warning by setting the environment variable TUNE_WARN_EXCESSIVE_EXPERIMENT_CHECKPOINT_SYNC_THRESHOLD_S to a smaller value than the current threshold (5.0). Set it to 0 to completely suppress this warning.\n",
      "2024-12-29 16:05:55,829\tWARNING experiment_state.py:206 -- Experiment state snapshotting has been triggered multiple times in the last 5.0 seconds and may become a bottleneck. A snapshot is forced if `CheckpointConfig(num_to_keep)` is set, and a trial has checkpointed >= `num_to_keep` times since the last snapshot.\n",
      "You may want to consider increasing the `CheckpointConfig(num_to_keep)` or decreasing the frequency of saving checkpoints.\n",
      "You can suppress this warning by setting the environment variable TUNE_WARN_EXCESSIVE_EXPERIMENT_CHECKPOINT_SYNC_THRESHOLD_S to a smaller value than the current threshold (5.0). Set it to 0 to completely suppress this warning.\n",
      "2024-12-29 16:05:57,728\tWARNING experiment_state.py:206 -- Experiment state snapshotting has been triggered multiple times in the last 5.0 seconds and may become a bottleneck. A snapshot is forced if `CheckpointConfig(num_to_keep)` is set, and a trial has checkpointed >= `num_to_keep` times since the last snapshot.\n",
      "You may want to consider increasing the `CheckpointConfig(num_to_keep)` or decreasing the frequency of saving checkpoints.\n",
      "You can suppress this warning by setting the environment variable TUNE_WARN_EXCESSIVE_EXPERIMENT_CHECKPOINT_SYNC_THRESHOLD_S to a smaller value than the current threshold (5.0). Set it to 0 to completely suppress this warning.\n",
      "\u001b[36m(tune_training pid=41272)\u001b[0m Checkpoint successfully created at: Checkpoint(filesystem=local, path=C:/Users/Alesi/work/minGRU-pytorch/tune_training_2024-12-29_16-05-05/tune_training_3b1d2_00006_6_depth=1,dropout=0.4815,lr=0.0015,nbatch=16,nhidden=32_2024-12-29_16-05-05/checkpoint_000061)\u001b[32m [repeated 36x across cluster]\u001b[0m\n",
      "2024-12-29 16:06:00,049\tWARNING experiment_state.py:206 -- Experiment state snapshotting has been triggered multiple times in the last 5.0 seconds and may become a bottleneck. A snapshot is forced if `CheckpointConfig(num_to_keep)` is set, and a trial has checkpointed >= `num_to_keep` times since the last snapshot.\n",
      "You may want to consider increasing the `CheckpointConfig(num_to_keep)` or decreasing the frequency of saving checkpoints.\n",
      "You can suppress this warning by setting the environment variable TUNE_WARN_EXCESSIVE_EXPERIMENT_CHECKPOINT_SYNC_THRESHOLD_S to a smaller value than the current threshold (5.0). Set it to 0 to completely suppress this warning.\n",
      "\u001b[36m(tune_training pid=41272)\u001b[0m Checkpoint successfully created at: Checkpoint(filesystem=local, path=C:/Users/Alesi/work/minGRU-pytorch/tune_training_2024-12-29_16-05-05/tune_training_3b1d2_00006_6_depth=1,dropout=0.4815,lr=0.0015,nbatch=16,nhidden=32_2024-12-29_16-05-05/checkpoint_000068)\u001b[32m [repeated 19x across cluster]\u001b[0m\n",
      "2024-12-29 16:06:03,657\tWARNING experiment_state.py:206 -- Experiment state snapshotting has been triggered multiple times in the last 5.0 seconds and may become a bottleneck. A snapshot is forced if `CheckpointConfig(num_to_keep)` is set, and a trial has checkpointed >= `num_to_keep` times since the last snapshot.\n",
      "You may want to consider increasing the `CheckpointConfig(num_to_keep)` or decreasing the frequency of saving checkpoints.\n",
      "You can suppress this warning by setting the environment variable TUNE_WARN_EXCESSIVE_EXPERIMENT_CHECKPOINT_SYNC_THRESHOLD_S to a smaller value than the current threshold (5.0). Set it to 0 to completely suppress this warning.\n",
      "2024-12-29 16:06:07,036\tWARNING experiment_state.py:206 -- Experiment state snapshotting has been triggered multiple times in the last 5.0 seconds and may become a bottleneck. A snapshot is forced if `CheckpointConfig(num_to_keep)` is set, and a trial has checkpointed >= `num_to_keep` times since the last snapshot.\n",
      "You may want to consider increasing the `CheckpointConfig(num_to_keep)` or decreasing the frequency of saving checkpoints.\n",
      "You can suppress this warning by setting the environment variable TUNE_WARN_EXCESSIVE_EXPERIMENT_CHECKPOINT_SYNC_THRESHOLD_S to a smaller value than the current threshold (5.0). Set it to 0 to completely suppress this warning.\n",
      "\u001b[36m(tune_training pid=41272)\u001b[0m Checkpoint successfully created at: Checkpoint(filesystem=local, path=C:/Users/Alesi/work/minGRU-pytorch/tune_training_2024-12-29_16-05-05/tune_training_3b1d2_00006_6_depth=1,dropout=0.4815,lr=0.0015,nbatch=16,nhidden=32_2024-12-29_16-05-05/checkpoint_000076)\u001b[32m [repeated 12x across cluster]\u001b[0m\n",
      "2024-12-29 16:06:10,325\tWARNING experiment_state.py:206 -- Experiment state snapshotting has been triggered multiple times in the last 5.0 seconds and may become a bottleneck. A snapshot is forced if `CheckpointConfig(num_to_keep)` is set, and a trial has checkpointed >= `num_to_keep` times since the last snapshot.\n",
      "You may want to consider increasing the `CheckpointConfig(num_to_keep)` or decreasing the frequency of saving checkpoints.\n",
      "You can suppress this warning by setting the environment variable TUNE_WARN_EXCESSIVE_EXPERIMENT_CHECKPOINT_SYNC_THRESHOLD_S to a smaller value than the current threshold (5.0). Set it to 0 to completely suppress this warning.\n",
      "\u001b[36m(tune_training pid=41272)\u001b[0m Checkpoint successfully created at: Checkpoint(filesystem=local, path=C:/Users/Alesi/work/minGRU-pytorch/tune_training_2024-12-29_16-05-05/tune_training_3b1d2_00006_6_depth=1,dropout=0.4815,lr=0.0015,nbatch=16,nhidden=32_2024-12-29_16-05-05/checkpoint_000084)\u001b[32m [repeated 12x across cluster]\u001b[0m\n",
      "2024-12-29 16:06:13,722\tWARNING experiment_state.py:206 -- Experiment state snapshotting has been triggered multiple times in the last 5.0 seconds and may become a bottleneck. A snapshot is forced if `CheckpointConfig(num_to_keep)` is set, and a trial has checkpointed >= `num_to_keep` times since the last snapshot.\n",
      "You may want to consider increasing the `CheckpointConfig(num_to_keep)` or decreasing the frequency of saving checkpoints.\n",
      "You can suppress this warning by setting the environment variable TUNE_WARN_EXCESSIVE_EXPERIMENT_CHECKPOINT_SYNC_THRESHOLD_S to a smaller value than the current threshold (5.0). Set it to 0 to completely suppress this warning.\n",
      "2024-12-29 16:06:17,019\tWARNING experiment_state.py:206 -- Experiment state snapshotting has been triggered multiple times in the last 5.0 seconds and may become a bottleneck. A snapshot is forced if `CheckpointConfig(num_to_keep)` is set, and a trial has checkpointed >= `num_to_keep` times since the last snapshot.\n",
      "You may want to consider increasing the `CheckpointConfig(num_to_keep)` or decreasing the frequency of saving checkpoints.\n",
      "You can suppress this warning by setting the environment variable TUNE_WARN_EXCESSIVE_EXPERIMENT_CHECKPOINT_SYNC_THRESHOLD_S to a smaller value than the current threshold (5.0). Set it to 0 to completely suppress this warning.\n",
      "\u001b[36m(tune_training pid=18108)\u001b[0m Checkpoint successfully created at: Checkpoint(filesystem=local, path=C:/Users/Alesi/work/minGRU-pytorch/tune_training_2024-12-29_16-05-05/tune_training_3b1d2_00009_9_depth=1,dropout=0.3490,lr=0.0005,nbatch=8,nhidden=95_2024-12-29_16-05-05/checkpoint_000048)\u001b[32m [repeated 12x across cluster]\u001b[0m\n",
      "2024-12-29 16:06:20,278\tWARNING experiment_state.py:206 -- Experiment state snapshotting has been triggered multiple times in the last 5.0 seconds and may become a bottleneck. A snapshot is forced if `CheckpointConfig(num_to_keep)` is set, and a trial has checkpointed >= `num_to_keep` times since the last snapshot.\n",
      "You may want to consider increasing the `CheckpointConfig(num_to_keep)` or decreasing the frequency of saving checkpoints.\n",
      "You can suppress this warning by setting the environment variable TUNE_WARN_EXCESSIVE_EXPERIMENT_CHECKPOINT_SYNC_THRESHOLD_S to a smaller value than the current threshold (5.0). Set it to 0 to completely suppress this warning.\n",
      "2024-12-29 16:06:23,647\tWARNING experiment_state.py:206 -- Experiment state snapshotting has been triggered multiple times in the last 5.0 seconds and may become a bottleneck. A snapshot is forced if `CheckpointConfig(num_to_keep)` is set, and a trial has checkpointed >= `num_to_keep` times since the last snapshot.\n",
      "You may want to consider increasing the `CheckpointConfig(num_to_keep)` or decreasing the frequency of saving checkpoints.\n",
      "You can suppress this warning by setting the environment variable TUNE_WARN_EXCESSIVE_EXPERIMENT_CHECKPOINT_SYNC_THRESHOLD_S to a smaller value than the current threshold (5.0). Set it to 0 to completely suppress this warning.\n",
      "\u001b[36m(tune_training pid=18108)\u001b[0m Checkpoint successfully created at: Checkpoint(filesystem=local, path=C:/Users/Alesi/work/minGRU-pytorch/tune_training_2024-12-29_16-05-05/tune_training_3b1d2_00009_9_depth=1,dropout=0.3490,lr=0.0005,nbatch=8,nhidden=95_2024-12-29_16-05-05/checkpoint_000052)\u001b[32m [repeated 12x across cluster]\u001b[0m\n",
      "2024-12-29 16:06:28,453\tWARNING experiment_state.py:206 -- Experiment state snapshotting has been triggered multiple times in the last 5.0 seconds and may become a bottleneck. A snapshot is forced if `CheckpointConfig(num_to_keep)` is set, and a trial has checkpointed >= `num_to_keep` times since the last snapshot.\n",
      "You may want to consider increasing the `CheckpointConfig(num_to_keep)` or decreasing the frequency of saving checkpoints.\n",
      "You can suppress this warning by setting the environment variable TUNE_WARN_EXCESSIVE_EXPERIMENT_CHECKPOINT_SYNC_THRESHOLD_S to a smaller value than the current threshold (5.0). Set it to 0 to completely suppress this warning.\n",
      "\u001b[36m(tune_training pid=18108)\u001b[0m Checkpoint successfully created at: Checkpoint(filesystem=local, path=C:/Users/Alesi/work/minGRU-pytorch/tune_training_2024-12-29_16-05-05/tune_training_3b1d2_00009_9_depth=1,dropout=0.3490,lr=0.0005,nbatch=8,nhidden=95_2024-12-29_16-05-05/checkpoint_000057)\u001b[32m [repeated 5x across cluster]\u001b[0m\n",
      "\u001b[36m(tune_training pid=18108)\u001b[0m Checkpoint successfully created at: Checkpoint(filesystem=local, path=C:/Users/Alesi/work/minGRU-pytorch/tune_training_2024-12-29_16-05-05/tune_training_3b1d2_00009_9_depth=1,dropout=0.3490,lr=0.0005,nbatch=8,nhidden=95_2024-12-29_16-05-05/checkpoint_000062)\u001b[32m [repeated 5x across cluster]\u001b[0m\n",
      "\u001b[36m(tune_training pid=18108)\u001b[0m Checkpoint successfully created at: Checkpoint(filesystem=local, path=C:/Users/Alesi/work/minGRU-pytorch/tune_training_2024-12-29_16-05-05/tune_training_3b1d2_00009_9_depth=1,dropout=0.3490,lr=0.0005,nbatch=8,nhidden=95_2024-12-29_16-05-05/checkpoint_000067)\u001b[32m [repeated 5x across cluster]\u001b[0m\n",
      "\u001b[36m(tune_training pid=18108)\u001b[0m Checkpoint successfully created at: Checkpoint(filesystem=local, path=C:/Users/Alesi/work/minGRU-pytorch/tune_training_2024-12-29_16-05-05/tune_training_3b1d2_00009_9_depth=1,dropout=0.3490,lr=0.0005,nbatch=8,nhidden=95_2024-12-29_16-05-05/checkpoint_000072)\u001b[32m [repeated 5x across cluster]\u001b[0m\n",
      "\u001b[36m(tune_training pid=18108)\u001b[0m Checkpoint successfully created at: Checkpoint(filesystem=local, path=C:/Users/Alesi/work/minGRU-pytorch/tune_training_2024-12-29_16-05-05/tune_training_3b1d2_00009_9_depth=1,dropout=0.3490,lr=0.0005,nbatch=8,nhidden=95_2024-12-29_16-05-05/checkpoint_000077)\u001b[32m [repeated 5x across cluster]\u001b[0m\n",
      "2024-12-29 16:06:53,991\tINFO tune.py:1009 -- Wrote the latest version of all result files and experiment state to 'C:/Users/Alesi/work/minGRU-pytorch/tune_training_2024-12-29_16-05-05' in 0.0322s.\n",
      "2024-12-29 16:06:54,003\tINFO tune.py:1041 -- Total run time: 108.68 seconds (108.62 seconds for the tuning loop).\n"
     ]
    }
   ],
   "source": [
    "# Run trials\n",
    "results = tuner.fit()"
   ]
  },
  {
   "cell_type": "code",
   "execution_count": 53,
   "metadata": {},
   "outputs": [],
   "source": [
    "# If restoring results from file\n",
    "restoreresults = False\n",
    "if restoreresults:\n",
    "    expname = 'tune_training_2024-12-23_18-35-34'\n",
    "    experiment_path = pathlib.Path('.').joinpath(expname).resolve().as_uri() ## must \n",
    "    if tune.Tuner.can_restore(experiment_path):\n",
    "        restored_tuner = tune.Tuner.restore(experiment_path, trainerwithparam)\n",
    "        results = restored_tuner.get_results()\n",
    "    else:\n",
    "        print('failed to restore')"
   ]
  },
  {
   "cell_type": "code",
   "execution_count": 54,
   "metadata": {},
   "outputs": [
    {
     "data": {
      "image/png": "[encoded data removed]",
      "text/plain": [
       "<Figure size 640x480 with 1 Axes>"
      ]
     },
     "metadata": {},
     "output_type": "display_data"
    }
   ],
   "source": [
    "# plot different trials\n",
    "#%matplotlib ipympl\n",
    "dfs = {result.path: result.metrics_dataframe for result in results}\n",
    "[d.test_loss.plot() for d in dfs.values()]\n",
    "plt.grid()"
   ]
  },
  {
   "cell_type": "markdown",
   "metadata": {},
   "source": [
    "## Tuned model"
   ]
  },
  {
   "cell_type": "markdown",
   "metadata": {},
   "source": [
    "### Get best check point"
   ]
  },
  {
   "cell_type": "code",
   "execution_count": 55,
   "metadata": {},
   "outputs": [],
   "source": [
    "bestresult = results.get_best_result(metric=\"test_loss\", mode=\"min\", scope='all')"
   ]
  },
  {
   "cell_type": "code",
   "execution_count": 56,
   "metadata": {},
   "outputs": [
    {
     "name": "stdout",
     "output_type": "stream",
     "text": [
      "{'lr': 0.0018000000000000002, 'nhidden': 38, 'depth': 1, 'nbatch': 32, 'dropout': 0.40751856654671653}\n",
      "C:/Users/Alesi/work/minGRU-pytorch/tune_training_2024-12-29_16-05-05/tune_training_3b1d2_00005_5_depth=1,dropout=0.4075,lr=0.0018,nbatch=32,nhidden=38_2024-12-29_16-05-05/checkpoint_000099\n"
     ]
    }
   ],
   "source": [
    "bestconfig = bestresult.config\n",
    "print(bestconfig)\n",
    "# this only gets the last path\n",
    "# it may not be the best when over trained\n",
    "print(bestresult.checkpoint.path)"
   ]
  },
  {
   "cell_type": "code",
   "execution_count": 57,
   "metadata": {},
   "outputs": [
    {
     "data": {
      "text/plain": [
       "0.04229721362965502"
      ]
     },
     "execution_count": 57,
     "metadata": {},
     "output_type": "execute_result"
    }
   ],
   "source": [
    "bestresult.metrics['test_loss'] # last checkpoint, not the best"
   ]
  },
  {
   "cell_type": "code",
   "execution_count": 58,
   "metadata": {},
   "outputs": [
    {
     "data": {
      "text/plain": [
       "Result(\n",
       "  metrics={'test_loss': 0.04229721362965502},\n",
       "  path='C:/Users/Alesi/work/minGRU-pytorch/tune_training_2024-12-29_16-05-05/tune_training_3b1d2_00005_5_depth=1,dropout=0.4075,lr=0.0018,nbatch=32,nhidden=38_2024-12-29_16-05-05',\n",
       "  filesystem='local',\n",
       "  checkpoint=Checkpoint(filesystem=local, path=C:/Users/Alesi/work/minGRU-pytorch/tune_training_2024-12-29_16-05-05/tune_training_3b1d2_00005_5_depth=1,dropout=0.4075,lr=0.0018,nbatch=32,nhidden=38_2024-12-29_16-05-05/checkpoint_000099)\n",
       ")"
      ]
     },
     "execution_count": 58,
     "metadata": {},
     "output_type": "execute_result"
    }
   ],
   "source": [
    "bestresult"
   ]
  },
  {
   "cell_type": "code",
   "execution_count": 59,
   "metadata": {},
   "outputs": [],
   "source": [
    "with bestresult.get_best_checkpoint('test_loss', 'min').as_directory() as checkpoint_dir:\n",
    "    state_dict = torch.load(os.path.join(checkpoint_dir, \"checkpoint.pt\"))"
   ]
  },
  {
   "cell_type": "code",
   "execution_count": 60,
   "metadata": {},
   "outputs": [
    {
     "data": {
      "text/plain": [
       "<All keys matched successfully>"
      ]
     },
     "execution_count": 60,
     "metadata": {},
     "output_type": "execute_result"
    }
   ],
   "source": [
    "bestmodel = modeltype(bestconfig['depth'], xdim, bestconfig['nhidden'])\n",
    "bestmodel.load_state_dict(state_dict[0])"
   ]
  },
  {
   "cell_type": "markdown",
   "metadata": {},
   "source": [
    "### Summary of the best model"
   ]
  },
  {
   "cell_type": "code",
   "execution_count": 61,
   "metadata": {},
   "outputs": [
    {
     "data": {
      "text/plain": [
       "419"
      ]
     },
     "execution_count": 61,
     "metadata": {},
     "output_type": "execute_result"
    }
   ],
   "source": [
    "sum(p.numel() for p in bestmodel.parameters())"
   ]
  },
  {
   "cell_type": "code",
   "execution_count": 62,
   "metadata": {},
   "outputs": [
    {
     "name": "stderr",
     "output_type": "stream",
     "text": [
      "\n",
      "(process:28192): Pango-WARNING **: 16:06:55.156: couldn't load font \"Linux libertine Not-Rotated 10\", falling back to \"Sans Not-Rotated 10\", expect ugly output.\n"
     ]
    },
    {
     "data": {
      "image/svg+xml": [
       "<?xml version=\"1.0\" encoding=\"UTF-8\" standalone=\"no\"?>\n",
       "<!DOCTYPE svg PUBLIC \"-//W3C//DTD SVG 1.1//EN\"\n",
       " \"http://www.w3.org/Graphics/SVG/1.1/DTD/svg11.dtd\">\n",
       "<!-- Generated by graphviz version 12.2.1 (20241206.2353)\n",
       " -->\n",
       "<!-- Title: model Pages: 1 -->\n",
       "<svg width=\"284pt\" height=\"686pt\"\n",
       " viewBox=\"0.00 0.00 284.00 685.50\" xmlns=\"http://www.w3.org/2000/svg\" xmlns:xlink=\"http://www.w3.org/1999/xlink\">\n",
       "<g id=\"graph0\" class=\"graph\" transform=\"scale(1 1) rotate(0) translate(4 681.5)\">\n",
       "<title>model</title>\n",
       "<polygon fill=\"white\" stroke=\"none\" points=\"-4,4 -4,-681.5 280,-681.5 280,4 -4,4\"/>\n",
       "<!-- 0 -->\n",
       "<g id=\"node1\" class=\"node\">\n",
       "<title>0</title>\n",
       "<polygon fill=\"lightyellow\" stroke=\"none\" points=\"185.38,-677.5 89.62,-677.5 89.62,-642 185.38,-642 185.38,-677.5\"/>\n",
       "<polygon fill=\"none\" stroke=\"black\" points=\"89.62,-642 89.62,-677.5 151.38,-677.5 151.38,-642 89.62,-642\"/>\n",
       "<text text-anchor=\"start\" x=\"94.62\" y=\"-663\" font-family=\"Linux libertine\" font-size=\"10.00\">input&#45;tensor</text>\n",
       "<text text-anchor=\"start\" x=\"104\" y=\"-650.25\" font-family=\"Linux libertine\" font-size=\"10.00\">depth:0</text>\n",
       "<polygon fill=\"none\" stroke=\"black\" points=\"151.38,-642 151.38,-677.5 185.38,-677.5 185.38,-642 151.38,-642\"/>\n",
       "<text text-anchor=\"start\" x=\"156.38\" y=\"-656.62\" font-family=\"Linux libertine\" font-size=\"10.00\">(1, 3)</text>\n",
       "</g>\n",
       "<!-- 1 -->\n",
       "<g id=\"node2\" class=\"node\">\n",
       "<title>1</title>\n",
       "<polygon fill=\"#c1ffc1\" stroke=\"none\" points=\"156,-606 27,-606 27,-560.5 156,-560.5 156,-606\"/>\n",
       "<polygon fill=\"none\" stroke=\"black\" points=\"27,-560.5 27,-606 70,-606 70,-560.5 27,-560.5\"/>\n",
       "<text text-anchor=\"start\" x=\"35\" y=\"-586.5\" font-family=\"Linux libertine\" font-size=\"10.00\">Linear</text>\n",
       "<text text-anchor=\"start\" x=\"32\" y=\"-573.75\" font-family=\"Linux libertine\" font-size=\"10.00\">depth:2</text>\n",
       "<polygon fill=\"none\" stroke=\"black\" points=\"70,-583.25 70,-606 113.75,-606 113.75,-583.25 70,-583.25\"/>\n",
       "<text text-anchor=\"start\" x=\"79.5\" y=\"-591.5\" font-family=\"Linux libertine\" font-size=\"10.00\">input:</text>\n",
       "<polygon fill=\"none\" stroke=\"black\" points=\"113.75,-583.25 113.75,-606 156,-606 156,-583.25 113.75,-583.25\"/>\n",
       "<text text-anchor=\"start\" x=\"121.38\" y=\"-591.5\" font-family=\"Linux libertine\" font-size=\"10.00\">(1, 3) </text>\n",
       "<polygon fill=\"none\" stroke=\"black\" points=\"70,-560.5 70,-583.25 113.75,-583.25 113.75,-560.5 70,-560.5\"/>\n",
       "<text text-anchor=\"start\" x=\"75\" y=\"-568.75\" font-family=\"Linux libertine\" font-size=\"10.00\">output: </text>\n",
       "<polygon fill=\"none\" stroke=\"black\" points=\"113.75,-560.5 113.75,-583.25 156,-583.25 156,-560.5 113.75,-560.5\"/>\n",
       "<text text-anchor=\"start\" x=\"118.75\" y=\"-568.75\" font-family=\"Linux libertine\" font-size=\"10.00\">(1, 38) </text>\n",
       "</g>\n",
       "<!-- 0&#45;&gt;1 -->\n",
       "<g id=\"edge1\" class=\"edge\">\n",
       "<title>0&#45;&gt;1</title>\n",
       "<path fill=\"none\" stroke=\"black\" d=\"M127.29,-642.22C122.43,-634.35 116.46,-624.67 110.79,-615.49\"/>\n",
       "<polygon fill=\"black\" stroke=\"black\" points=\"113.85,-613.79 105.62,-607.12 107.9,-617.47 113.85,-613.79\"/>\n",
       "</g>\n",
       "<!-- 3 -->\n",
       "<g id=\"node4\" class=\"node\">\n",
       "<title>3</title>\n",
       "<polygon fill=\"#c1ffc1\" stroke=\"none\" points=\"276,-524.5 147,-524.5 147,-479 276,-479 276,-524.5\"/>\n",
       "<polygon fill=\"none\" stroke=\"black\" points=\"147,-479 147,-524.5 190,-524.5 190,-479 147,-479\"/>\n",
       "<text text-anchor=\"start\" x=\"155\" y=\"-505\" font-family=\"Linux libertine\" font-size=\"10.00\">Linear</text>\n",
       "<text text-anchor=\"start\" x=\"152\" y=\"-492.25\" font-family=\"Linux libertine\" font-size=\"10.00\">depth:2</text>\n",
       "<polygon fill=\"none\" stroke=\"black\" points=\"190,-501.75 190,-524.5 233.75,-524.5 233.75,-501.75 190,-501.75\"/>\n",
       "<text text-anchor=\"start\" x=\"199.5\" y=\"-510\" font-family=\"Linux libertine\" font-size=\"10.00\">input:</text>\n",
       "<polygon fill=\"none\" stroke=\"black\" points=\"233.75,-501.75 233.75,-524.5 276,-524.5 276,-501.75 233.75,-501.75\"/>\n",
       "<text text-anchor=\"start\" x=\"241.38\" y=\"-510\" font-family=\"Linux libertine\" font-size=\"10.00\">(1, 3) </text>\n",
       "<polygon fill=\"none\" stroke=\"black\" points=\"190,-479 190,-501.75 233.75,-501.75 233.75,-479 190,-479\"/>\n",
       "<text text-anchor=\"start\" x=\"195\" y=\"-487.25\" font-family=\"Linux libertine\" font-size=\"10.00\">output: </text>\n",
       "<polygon fill=\"none\" stroke=\"black\" points=\"233.75,-479 233.75,-501.75 276,-501.75 276,-479 233.75,-479\"/>\n",
       "<text text-anchor=\"start\" x=\"238.75\" y=\"-487.25\" font-family=\"Linux libertine\" font-size=\"10.00\">(1, 38) </text>\n",
       "</g>\n",
       "<!-- 0&#45;&gt;3 -->\n",
       "<g id=\"edge2\" class=\"edge\">\n",
       "<title>0&#45;&gt;3</title>\n",
       "<path fill=\"none\" stroke=\"black\" d=\"M146.62,-642.27C152.25,-631.94 159.5,-618.3 165.5,-606 177.02,-582.38 189.07,-555.21 197.95,-534.68\"/>\n",
       "<polygon fill=\"black\" stroke=\"black\" points=\"201.08,-536.26 201.81,-525.7 194.65,-533.5 201.08,-536.26\"/>\n",
       "</g>\n",
       "<!-- 2 -->\n",
       "<g id=\"node3\" class=\"node\">\n",
       "<title>2</title>\n",
       "<polygon fill=\"aliceblue\" stroke=\"none\" points=\"129,-524.5 0,-524.5 0,-479 129,-479 129,-524.5\"/>\n",
       "<polygon fill=\"none\" stroke=\"black\" points=\"0,-479 0,-524.5 43,-524.5 43,-479 0,-479\"/>\n",
       "<text text-anchor=\"start\" x=\"5\" y=\"-505\" font-family=\"Linux libertine\" font-size=\"10.00\">sigmoid</text>\n",
       "<text text-anchor=\"start\" x=\"5\" y=\"-492.25\" font-family=\"Linux libertine\" font-size=\"10.00\">depth:2</text>\n",
       "<polygon fill=\"none\" stroke=\"black\" points=\"43,-501.75 43,-524.5 86.75,-524.5 86.75,-501.75 43,-501.75\"/>\n",
       "<text text-anchor=\"start\" x=\"52.5\" y=\"-510\" font-family=\"Linux libertine\" font-size=\"10.00\">input:</text>\n",
       "<polygon fill=\"none\" stroke=\"black\" points=\"86.75,-501.75 86.75,-524.5 129,-524.5 129,-501.75 86.75,-501.75\"/>\n",
       "<text text-anchor=\"start\" x=\"91.75\" y=\"-510\" font-family=\"Linux libertine\" font-size=\"10.00\">(1, 38) </text>\n",
       "<polygon fill=\"none\" stroke=\"black\" points=\"43,-479 43,-501.75 86.75,-501.75 86.75,-479 43,-479\"/>\n",
       "<text text-anchor=\"start\" x=\"48\" y=\"-487.25\" font-family=\"Linux libertine\" font-size=\"10.00\">output: </text>\n",
       "<polygon fill=\"none\" stroke=\"black\" points=\"86.75,-479 86.75,-501.75 129,-501.75 129,-479 86.75,-479\"/>\n",
       "<text text-anchor=\"start\" x=\"91.75\" y=\"-487.25\" font-family=\"Linux libertine\" font-size=\"10.00\">(1, 38) </text>\n",
       "</g>\n",
       "<!-- 1&#45;&gt;2 -->\n",
       "<g id=\"edge3\" class=\"edge\">\n",
       "<title>1&#45;&gt;2</title>\n",
       "<path fill=\"none\" stroke=\"black\" d=\"M84.12,-560.53C81.47,-552.73 78.43,-543.75 75.53,-535.24\"/>\n",
       "<polygon fill=\"black\" stroke=\"black\" points=\"78.89,-534.22 72.36,-525.88 72.26,-536.47 78.89,-534.22\"/>\n",
       "</g>\n",
       "<!-- 4 -->\n",
       "<g id=\"node5\" class=\"node\">\n",
       "<title>4</title>\n",
       "<polygon fill=\"aliceblue\" stroke=\"none\" points=\"210.25,-443 64.75,-443 64.75,-397.5 210.25,-397.5 210.25,-443\"/>\n",
       "<polygon fill=\"none\" stroke=\"black\" points=\"64.75,-397.5 64.75,-443 107.75,-443 107.75,-397.5 64.75,-397.5\"/>\n",
       "<text text-anchor=\"start\" x=\"78.38\" y=\"-423.5\" font-family=\"Linux libertine\" font-size=\"10.00\">mul</text>\n",
       "<text text-anchor=\"start\" x=\"69.75\" y=\"-410.75\" font-family=\"Linux libertine\" font-size=\"10.00\">depth:2</text>\n",
       "<polygon fill=\"none\" stroke=\"black\" points=\"107.75,-420.25 107.75,-443 151.5,-443 151.5,-420.25 107.75,-420.25\"/>\n",
       "<text text-anchor=\"start\" x=\"117.25\" y=\"-428.5\" font-family=\"Linux libertine\" font-size=\"10.00\">input:</text>\n",
       "<polygon fill=\"none\" stroke=\"black\" points=\"151.5,-420.25 151.5,-443 210.25,-443 210.25,-420.25 151.5,-420.25\"/>\n",
       "<text text-anchor=\"start\" x=\"156.5\" y=\"-428.5\" font-family=\"Linux libertine\" font-size=\"10.00\">2 x (1, 38) </text>\n",
       "<polygon fill=\"none\" stroke=\"black\" points=\"107.75,-397.5 107.75,-420.25 151.5,-420.25 151.5,-397.5 107.75,-397.5\"/>\n",
       "<text text-anchor=\"start\" x=\"112.75\" y=\"-405.75\" font-family=\"Linux libertine\" font-size=\"10.00\">output: </text>\n",
       "<polygon fill=\"none\" stroke=\"black\" points=\"151.5,-397.5 151.5,-420.25 210.25,-420.25 210.25,-397.5 151.5,-397.5\"/>\n",
       "<text text-anchor=\"start\" x=\"164.75\" y=\"-405.75\" font-family=\"Linux libertine\" font-size=\"10.00\">(1, 38) </text>\n",
       "</g>\n",
       "<!-- 2&#45;&gt;4 -->\n",
       "<g id=\"edge4\" class=\"edge\">\n",
       "<title>2&#45;&gt;4</title>\n",
       "<path fill=\"none\" stroke=\"black\" d=\"M84.45,-479.03C92.33,-470.44 101.53,-460.43 110.03,-451.17\"/>\n",
       "<polygon fill=\"black\" stroke=\"black\" points=\"112.37,-453.8 116.55,-444.06 107.21,-449.06 112.37,-453.8\"/>\n",
       "</g>\n",
       "<!-- 3&#45;&gt;4 -->\n",
       "<g id=\"edge5\" class=\"edge\">\n",
       "<title>3&#45;&gt;4</title>\n",
       "<path fill=\"none\" stroke=\"black\" d=\"M191.28,-479.03C183.28,-470.44 173.96,-460.43 165.35,-451.17\"/>\n",
       "<polygon fill=\"black\" stroke=\"black\" points=\"168.1,-448.99 158.73,-444.06 162.98,-453.76 168.1,-448.99\"/>\n",
       "</g>\n",
       "<!-- 5 -->\n",
       "<g id=\"node6\" class=\"node\">\n",
       "<title>5</title>\n",
       "<polygon fill=\"#c1ffc1\" stroke=\"none\" points=\"209.88,-361.5 65.12,-361.5 65.12,-316 209.88,-316 209.88,-361.5\"/>\n",
       "<polygon fill=\"none\" stroke=\"black\" points=\"65.12,-316 65.12,-361.5 123.88,-361.5 123.88,-316 65.12,-316\"/>\n",
       "<text text-anchor=\"start\" x=\"70.12\" y=\"-342\" font-family=\"Linux libertine\" font-size=\"10.00\">LayerNorm</text>\n",
       "<text text-anchor=\"start\" x=\"78\" y=\"-329.25\" font-family=\"Linux libertine\" font-size=\"10.00\">depth:1</text>\n",
       "<polygon fill=\"none\" stroke=\"black\" points=\"123.88,-338.75 123.88,-361.5 167.62,-361.5 167.62,-338.75 123.88,-338.75\"/>\n",
       "<text text-anchor=\"start\" x=\"133.38\" y=\"-347\" font-family=\"Linux libertine\" font-size=\"10.00\">input:</text>\n",
       "<polygon fill=\"none\" stroke=\"black\" points=\"167.62,-338.75 167.62,-361.5 209.88,-361.5 209.88,-338.75 167.62,-338.75\"/>\n",
       "<text text-anchor=\"start\" x=\"172.62\" y=\"-347\" font-family=\"Linux libertine\" font-size=\"10.00\">(1, 38) </text>\n",
       "<polygon fill=\"none\" stroke=\"black\" points=\"123.88,-316 123.88,-338.75 167.62,-338.75 167.62,-316 123.88,-316\"/>\n",
       "<text text-anchor=\"start\" x=\"128.88\" y=\"-324.25\" font-family=\"Linux libertine\" font-size=\"10.00\">output: </text>\n",
       "<polygon fill=\"none\" stroke=\"black\" points=\"167.62,-316 167.62,-338.75 209.88,-338.75 209.88,-316 167.62,-316\"/>\n",
       "<text text-anchor=\"start\" x=\"172.62\" y=\"-324.25\" font-family=\"Linux libertine\" font-size=\"10.00\">(1, 38) </text>\n",
       "</g>\n",
       "<!-- 4&#45;&gt;5 -->\n",
       "<g id=\"edge6\" class=\"edge\">\n",
       "<title>4&#45;&gt;5</title>\n",
       "<path fill=\"none\" stroke=\"black\" d=\"M137.5,-397.53C137.5,-389.9 137.5,-381.15 137.5,-372.81\"/>\n",
       "<polygon fill=\"black\" stroke=\"black\" points=\"141,-372.96 137.5,-362.96 134,-372.96 141,-372.96\"/>\n",
       "</g>\n",
       "<!-- 6 -->\n",
       "<g id=\"node7\" class=\"node\">\n",
       "<title>6</title>\n",
       "<polygon fill=\"#c1ffc1\" stroke=\"none\" points=\"202.75,-280 72.25,-280 72.25,-234.5 202.75,-234.5 202.75,-280\"/>\n",
       "<polygon fill=\"none\" stroke=\"black\" points=\"72.25,-234.5 72.25,-280 116.75,-280 116.75,-234.5 72.25,-234.5\"/>\n",
       "<text text-anchor=\"start\" x=\"77.25\" y=\"-260.5\" font-family=\"Linux libertine\" font-size=\"10.00\">Dropout</text>\n",
       "<text text-anchor=\"start\" x=\"78\" y=\"-247.75\" font-family=\"Linux libertine\" font-size=\"10.00\">depth:1</text>\n",
       "<polygon fill=\"none\" stroke=\"black\" points=\"116.75,-257.25 116.75,-280 160.5,-280 160.5,-257.25 116.75,-257.25\"/>\n",
       "<text text-anchor=\"start\" x=\"126.25\" y=\"-265.5\" font-family=\"Linux libertine\" font-size=\"10.00\">input:</text>\n",
       "<polygon fill=\"none\" stroke=\"black\" points=\"160.5,-257.25 160.5,-280 202.75,-280 202.75,-257.25 160.5,-257.25\"/>\n",
       "<text text-anchor=\"start\" x=\"165.5\" y=\"-265.5\" font-family=\"Linux libertine\" font-size=\"10.00\">(1, 38) </text>\n",
       "<polygon fill=\"none\" stroke=\"black\" points=\"116.75,-234.5 116.75,-257.25 160.5,-257.25 160.5,-234.5 116.75,-234.5\"/>\n",
       "<text text-anchor=\"start\" x=\"121.75\" y=\"-242.75\" font-family=\"Linux libertine\" font-size=\"10.00\">output: </text>\n",
       "<polygon fill=\"none\" stroke=\"black\" points=\"160.5,-234.5 160.5,-257.25 202.75,-257.25 202.75,-234.5 160.5,-234.5\"/>\n",
       "<text text-anchor=\"start\" x=\"165.5\" y=\"-242.75\" font-family=\"Linux libertine\" font-size=\"10.00\">(1, 38) </text>\n",
       "</g>\n",
       "<!-- 5&#45;&gt;6 -->\n",
       "<g id=\"edge7\" class=\"edge\">\n",
       "<title>5&#45;&gt;6</title>\n",
       "<path fill=\"none\" stroke=\"black\" d=\"M137.5,-316.03C137.5,-308.4 137.5,-299.65 137.5,-291.31\"/>\n",
       "<polygon fill=\"black\" stroke=\"black\" points=\"141,-291.46 137.5,-281.46 134,-291.46 141,-291.46\"/>\n",
       "</g>\n",
       "<!-- 7 -->\n",
       "<g id=\"node8\" class=\"node\">\n",
       "<title>7</title>\n",
       "<polygon fill=\"#c1ffc1\" stroke=\"none\" points=\"202,-198.5 73,-198.5 73,-153 202,-153 202,-198.5\"/>\n",
       "<polygon fill=\"none\" stroke=\"black\" points=\"73,-153 73,-198.5 116,-198.5 116,-153 73,-153\"/>\n",
       "<text text-anchor=\"start\" x=\"81\" y=\"-179\" font-family=\"Linux libertine\" font-size=\"10.00\">Linear</text>\n",
       "<text text-anchor=\"start\" x=\"78\" y=\"-166.25\" font-family=\"Linux libertine\" font-size=\"10.00\">depth:1</text>\n",
       "<polygon fill=\"none\" stroke=\"black\" points=\"116,-175.75 116,-198.5 159.75,-198.5 159.75,-175.75 116,-175.75\"/>\n",
       "<text text-anchor=\"start\" x=\"125.5\" y=\"-184\" font-family=\"Linux libertine\" font-size=\"10.00\">input:</text>\n",
       "<polygon fill=\"none\" stroke=\"black\" points=\"159.75,-175.75 159.75,-198.5 202,-198.5 202,-175.75 159.75,-175.75\"/>\n",
       "<text text-anchor=\"start\" x=\"164.75\" y=\"-184\" font-family=\"Linux libertine\" font-size=\"10.00\">(1, 38) </text>\n",
       "<polygon fill=\"none\" stroke=\"black\" points=\"116,-153 116,-175.75 159.75,-175.75 159.75,-153 116,-153\"/>\n",
       "<text text-anchor=\"start\" x=\"121\" y=\"-161.25\" font-family=\"Linux libertine\" font-size=\"10.00\">output: </text>\n",
       "<polygon fill=\"none\" stroke=\"black\" points=\"159.75,-153 159.75,-175.75 202,-175.75 202,-153 159.75,-153\"/>\n",
       "<text text-anchor=\"start\" x=\"167.38\" y=\"-161.25\" font-family=\"Linux libertine\" font-size=\"10.00\">(1, 1) </text>\n",
       "</g>\n",
       "<!-- 6&#45;&gt;7 -->\n",
       "<g id=\"edge8\" class=\"edge\">\n",
       "<title>6&#45;&gt;7</title>\n",
       "<path fill=\"none\" stroke=\"black\" d=\"M137.5,-234.53C137.5,-226.9 137.5,-218.15 137.5,-209.81\"/>\n",
       "<polygon fill=\"black\" stroke=\"black\" points=\"141,-209.96 137.5,-199.96 134,-209.96 141,-209.96\"/>\n",
       "</g>\n",
       "<!-- 8 -->\n",
       "<g id=\"node9\" class=\"node\">\n",
       "<title>8</title>\n",
       "<polygon fill=\"#c1ffc1\" stroke=\"none\" points=\"199.75,-117 75.25,-117 75.25,-71.5 199.75,-71.5 199.75,-117\"/>\n",
       "<polygon fill=\"none\" stroke=\"black\" points=\"75.25,-71.5 75.25,-117 119,-117 119,-71.5 75.25,-71.5\"/>\n",
       "<text text-anchor=\"start\" x=\"80.25\" y=\"-97.5\" font-family=\"Linux libertine\" font-size=\"10.00\">Sigmoid</text>\n",
       "<text text-anchor=\"start\" x=\"80.62\" y=\"-84.75\" font-family=\"Linux libertine\" font-size=\"10.00\">depth:1</text>\n",
       "<polygon fill=\"none\" stroke=\"black\" points=\"119,-94.25 119,-117 162.75,-117 162.75,-94.25 119,-94.25\"/>\n",
       "<text text-anchor=\"start\" x=\"128.5\" y=\"-102.5\" font-family=\"Linux libertine\" font-size=\"10.00\">input:</text>\n",
       "<polygon fill=\"none\" stroke=\"black\" points=\"162.75,-94.25 162.75,-117 199.75,-117 199.75,-94.25 162.75,-94.25\"/>\n",
       "<text text-anchor=\"start\" x=\"167.75\" y=\"-102.5\" font-family=\"Linux libertine\" font-size=\"10.00\">(1, 1) </text>\n",
       "<polygon fill=\"none\" stroke=\"black\" points=\"119,-71.5 119,-94.25 162.75,-94.25 162.75,-71.5 119,-71.5\"/>\n",
       "<text text-anchor=\"start\" x=\"124\" y=\"-79.75\" font-family=\"Linux libertine\" font-size=\"10.00\">output: </text>\n",
       "<polygon fill=\"none\" stroke=\"black\" points=\"162.75,-71.5 162.75,-94.25 199.75,-94.25 199.75,-71.5 162.75,-71.5\"/>\n",
       "<text text-anchor=\"start\" x=\"167.75\" y=\"-79.75\" font-family=\"Linux libertine\" font-size=\"10.00\">(1, 1) </text>\n",
       "</g>\n",
       "<!-- 7&#45;&gt;8 -->\n",
       "<g id=\"edge9\" class=\"edge\">\n",
       "<title>7&#45;&gt;8</title>\n",
       "<path fill=\"none\" stroke=\"black\" d=\"M137.5,-153.03C137.5,-145.4 137.5,-136.65 137.5,-128.31\"/>\n",
       "<polygon fill=\"black\" stroke=\"black\" points=\"141,-128.46 137.5,-118.46 134,-128.46 141,-128.46\"/>\n",
       "</g>\n",
       "<!-- 9 -->\n",
       "<g id=\"node10\" class=\"node\">\n",
       "<title>9</title>\n",
       "<polygon fill=\"lightyellow\" stroke=\"none\" points=\"188.38,-35.5 86.62,-35.5 86.62,0 188.38,0 188.38,-35.5\"/>\n",
       "<polygon fill=\"none\" stroke=\"black\" points=\"86.62,0 86.62,-35.5 154.38,-35.5 154.38,0 86.62,0\"/>\n",
       "<text text-anchor=\"start\" x=\"91.62\" y=\"-21\" font-family=\"Linux libertine\" font-size=\"10.00\">output&#45;tensor</text>\n",
       "<text text-anchor=\"start\" x=\"104\" y=\"-8.25\" font-family=\"Linux libertine\" font-size=\"10.00\">depth:0</text>\n",
       "<polygon fill=\"none\" stroke=\"black\" points=\"154.38,0 154.38,-35.5 188.38,-35.5 188.38,0 154.38,0\"/>\n",
       "<text text-anchor=\"start\" x=\"159.38\" y=\"-14.62\" font-family=\"Linux libertine\" font-size=\"10.00\">(1, 1)</text>\n",
       "</g>\n",
       "<!-- 8&#45;&gt;9 -->\n",
       "<g id=\"edge10\" class=\"edge\">\n",
       "<title>8&#45;&gt;9</title>\n",
       "<path fill=\"none\" stroke=\"black\" d=\"M137.5,-71.7C137.5,-63.85 137.5,-54.85 137.5,-46.54\"/>\n",
       "<polygon fill=\"black\" stroke=\"black\" points=\"141,-46.56 137.5,-36.56 134,-46.56 141,-46.56\"/>\n",
       "</g>\n",
       "</g>\n",
       "</svg>\n"
      ],
      "text/plain": [
       "<graphviz.graphs.Digraph at 0x22d80180c10>"
      ]
     },
     "execution_count": 62,
     "metadata": {},
     "output_type": "execute_result"
    }
   ],
   "source": [
    "graph = draw_graph(bestmodel, input_size=(1, xdim),  device=device)\n",
    "\n",
    "graph.visual_graph"
   ]
  },
  {
   "cell_type": "markdown",
   "metadata": {},
   "source": [
    "### Output performace"
   ]
  },
  {
   "cell_type": "code",
   "execution_count": 63,
   "metadata": {},
   "outputs": [],
   "source": [
    "outputslist = []\n",
    "labelslist = []\n",
    "featureslist = []\n",
    "with torch.no_grad():\n",
    "    for batch_idx, (features, labels) in enumerate(test_dataloader):\n",
    "        outputs = bestmodel(features)\n",
    "        featureslist.append(features)\n",
    "        outputslist.append(outputs)\n",
    "        labelslist.append(labels)\n",
    "\n",
    "labels_torch = torch.cat(labelslist)\n",
    "outputs_torch = torch.cat(outputslist).squeeze(-1)"
   ]
  },
  {
   "cell_type": "code",
   "execution_count": 64,
   "metadata": {},
   "outputs": [],
   "source": [
    "features_torch = torch.cat(featureslist)"
   ]
  },
  {
   "cell_type": "code",
   "execution_count": 65,
   "metadata": {},
   "outputs": [
    {
     "data": {
      "text/plain": [
       "tensor(0.9995)"
      ]
     },
     "execution_count": 65,
     "metadata": {},
     "output_type": "execute_result"
    }
   ],
   "source": [
    "b = BinaryAUROC()\n",
    "b(outputs_torch, labels_torch)"
   ]
  },
  {
   "cell_type": "code",
   "execution_count": 66,
   "metadata": {},
   "outputs": [
    {
     "data": {
      "text/plain": [
       "(<Figure size 640x480 with 1 Axes>, <AxesSubplot:ylabel='BinaryAUROC'>)"
      ]
     },
     "execution_count": 66,
     "metadata": {},
     "output_type": "execute_result"
    },
    {
     "data": {
      "image/png": "[encoded data removed]",
      "text/plain": [
       "<Figure size 640x480 with 1 Axes>"
      ]
     },
     "metadata": {},
     "output_type": "display_data"
    }
   ],
   "source": [
    "b.plot()"
   ]
  },
  {
   "cell_type": "code",
   "execution_count": 67,
   "metadata": {},
   "outputs": [
    {
     "data": {
      "image/png": "[encoded data removed]",
      "text/plain": [
       "<Figure size 640x480 with 1 Axes>"
      ]
     },
     "metadata": {},
     "output_type": "display_data"
    }
   ],
   "source": [
    "fig, ax = plt.subplots()\n",
    "roc = ROC(task='binary')\n",
    "fpr, tpr, thresh = roc(outputs_torch, labels_torch.int())\n",
    "ax.set_xscale('log')\n",
    "roc.plot(ax=ax)\n",
    "plt.show()"
   ]
  },
  {
   "cell_type": "code",
   "execution_count": 68,
   "metadata": {},
   "outputs": [
    {
     "data": {
      "image/png": "[encoded data removed]",
      "text/plain": [
       "<Figure size 640x480 with 1 Axes>"
      ]
     },
     "metadata": {},
     "output_type": "display_data"
    }
   ],
   "source": [
    "plt.clf()\n",
    "plt.plot(thresh, fpr, '-', label='fpr')\n",
    "plt.plot(thresh, tpr, '-', label='tpr')\n",
    "plt.legend()\n",
    "plt.grid()\n",
    "plt.show()"
   ]
  },
  {
   "cell_type": "code",
   "execution_count": 69,
   "metadata": {},
   "outputs": [
    {
     "data": {
      "text/plain": [
       "tensor(0.9860)"
      ]
     },
     "execution_count": 69,
     "metadata": {},
     "output_type": "execute_result"
    }
   ],
   "source": [
    "acc = BinaryAccuracy()\n",
    "acc(outputs_torch, labels_torch)"
   ]
  },
  {
   "cell_type": "code",
   "execution_count": 70,
   "metadata": {},
   "outputs": [
    {
     "data": {
      "text/plain": [
       "(<Figure size 640x480 with 1 Axes>, <AxesSubplot:ylabel='BinaryAccuracy'>)"
      ]
     },
     "execution_count": 70,
     "metadata": {},
     "output_type": "execute_result"
    },
    {
     "data": {
      "image/png": "[encoded data removed]",
      "text/plain": [
       "<Figure size 640x480 with 1 Axes>"
      ]
     },
     "metadata": {},
     "output_type": "display_data"
    }
   ],
   "source": [
    "acc.plot()"
   ]
  },
  {
   "cell_type": "code",
   "execution_count": 71,
   "metadata": {},
   "outputs": [],
   "source": [
    "features_torch=torch.cat(featureslist)"
   ]
  },
  {
   "cell_type": "code",
   "execution_count": 72,
   "metadata": {},
   "outputs": [],
   "source": [
    "featuresr = torch.sqrt(torch.sum(features_torch.square(), dim=1))"
   ]
  },
  {
   "cell_type": "code",
   "execution_count": 73,
   "metadata": {},
   "outputs": [],
   "source": [
    "testoutput =pd.DataFrame({'r': featuresr.numpy(), 'label': labels_torch.numpy(), 'output':outputs_torch.numpy()})"
   ]
  },
  {
   "cell_type": "code",
   "execution_count": 74,
   "metadata": {},
   "outputs": [
    {
     "data": {
      "text/html": [
       "<div>\n",
       "<style scoped>\n",
       "    .dataframe tbody tr th:only-of-type {\n",
       "        vertical-align: middle;\n",
       "    }\n",
       "\n",
       "    .dataframe tbody tr th {\n",
       "        vertical-align: top;\n",
       "    }\n",
       "\n",
       "    .dataframe thead th {\n",
       "        text-align: right;\n",
       "    }\n",
       "</style>\n",
       "<table border=\"1\" class=\"dataframe\">\n",
       "  <thead>\n",
       "    <tr style=\"text-align: right;\">\n",
       "      <th></th>\n",
       "      <th>r</th>\n",
       "      <th>label</th>\n",
       "      <th>output</th>\n",
       "    </tr>\n",
       "  </thead>\n",
       "  <tbody>\n",
       "    <tr>\n",
       "      <th>0</th>\n",
       "      <td>2.027805</td>\n",
       "      <td>0.0</td>\n",
       "      <td>3.800209e-07</td>\n",
       "    </tr>\n",
       "    <tr>\n",
       "      <th>1</th>\n",
       "      <td>1.461132</td>\n",
       "      <td>1.0</td>\n",
       "      <td>1.000000e+00</td>\n",
       "    </tr>\n",
       "    <tr>\n",
       "      <th>2</th>\n",
       "      <td>1.742603</td>\n",
       "      <td>0.0</td>\n",
       "      <td>3.147119e-01</td>\n",
       "    </tr>\n",
       "    <tr>\n",
       "      <th>3</th>\n",
       "      <td>2.040255</td>\n",
       "      <td>0.0</td>\n",
       "      <td>5.255237e-08</td>\n",
       "    </tr>\n",
       "    <tr>\n",
       "      <th>4</th>\n",
       "      <td>1.406844</td>\n",
       "      <td>1.0</td>\n",
       "      <td>1.000000e+00</td>\n",
       "    </tr>\n",
       "    <tr>\n",
       "      <th>...</th>\n",
       "      <td>...</td>\n",
       "      <td>...</td>\n",
       "      <td>...</td>\n",
       "    </tr>\n",
       "    <tr>\n",
       "      <th>4995</th>\n",
       "      <td>1.185124</td>\n",
       "      <td>1.0</td>\n",
       "      <td>1.000000e+00</td>\n",
       "    </tr>\n",
       "    <tr>\n",
       "      <th>4996</th>\n",
       "      <td>1.571738</td>\n",
       "      <td>1.0</td>\n",
       "      <td>9.995961e-01</td>\n",
       "    </tr>\n",
       "    <tr>\n",
       "      <th>4997</th>\n",
       "      <td>2.308933</td>\n",
       "      <td>0.0</td>\n",
       "      <td>8.518133e-14</td>\n",
       "    </tr>\n",
       "    <tr>\n",
       "      <th>4998</th>\n",
       "      <td>1.218039</td>\n",
       "      <td>1.0</td>\n",
       "      <td>1.000000e+00</td>\n",
       "    </tr>\n",
       "    <tr>\n",
       "      <th>4999</th>\n",
       "      <td>2.430796</td>\n",
       "      <td>0.0</td>\n",
       "      <td>1.771801e-12</td>\n",
       "    </tr>\n",
       "  </tbody>\n",
       "</table>\n",
       "<p>5000 rows × 3 columns</p>\n",
       "</div>"
      ],
      "text/plain": [
       "             r  label        output\n",
       "0     2.027805    0.0  3.800209e-07\n",
       "1     1.461132    1.0  1.000000e+00\n",
       "2     1.742603    0.0  3.147119e-01\n",
       "3     2.040255    0.0  5.255237e-08\n",
       "4     1.406844    1.0  1.000000e+00\n",
       "...        ...    ...           ...\n",
       "4995  1.185124    1.0  1.000000e+00\n",
       "4996  1.571738    1.0  9.995961e-01\n",
       "4997  2.308933    0.0  8.518133e-14\n",
       "4998  1.218039    1.0  1.000000e+00\n",
       "4999  2.430796    0.0  1.771801e-12\n",
       "\n",
       "[5000 rows x 3 columns]"
      ]
     },
     "execution_count": 74,
     "metadata": {},
     "output_type": "execute_result"
    }
   ],
   "source": [
    "testoutput"
   ]
  },
  {
   "cell_type": "code",
   "execution_count": 75,
   "metadata": {},
   "outputs": [
    {
     "data": {
      "image/png": "[encoded data removed]",
      "text/plain": [
       "<Figure size 640x480 with 1 Axes>"
      ]
     },
     "metadata": {},
     "output_type": "display_data"
    }
   ],
   "source": [
    "# Filter the data where the absolute difference between output and label is greater than 0.01\n",
    "filtered_data = testoutput[testoutput['label'] == 0]\n",
    "filtered_data2 = testoutput[(testoutput['label'] == 0) & (abs(testoutput['output'] - testoutput['label']) > 0.1)]\n",
    "filtered_data3 = testoutput[(testoutput['label'] == 1) & (abs(testoutput['output'] - testoutput['label']) > 0.1)]\n",
    "# Plot the histogram of 'r' values\n",
    "plt.clf()\n",
    "plt.hist(testoutput['r'], bins=100, range=(0.0, 3.0))\n",
    "plt.hist(filtered_data['r'], bins=100, range=(0.0, 3.0))\n",
    "plt.hist(filtered_data2['r'], bins=100, range=(0.0, 3.0), alpha=0.5)\n",
    "plt.hist(filtered_data3['r'], bins=100, range=(0.0, 3.0), alpha=0.5)\n",
    "plt.xlabel('r')\n",
    "plt.ylabel('Frequency')\n",
    "plt.title('Histogram of r values where output is more than 0.1 different from the label')\n",
    "plt.show()"
   ]
  },
  {
   "cell_type": "code",
   "execution_count": 76,
   "metadata": {},
   "outputs": [
    {
     "name": "stdout",
     "output_type": "stream",
     "text": [
      "174\n",
      "155\n"
     ]
    }
   ],
   "source": [
    "print(filtered_data2.shape[0])\n",
    "print(filtered_data3.shape[0])"
   ]
  },
  {
   "cell_type": "code",
   "execution_count": null,
   "metadata": {},
   "outputs": [],
   "source": []
  }
 ],
 "metadata": {
  "kernelspec": {
   "display_name": "magisslac",
   "language": "python",
   "name": "python3"
  },
  "language_info": {
   "codemirror_mode": {
    "name": "ipython",
    "version": 3
   },
   "file_extension": ".py",
   "mimetype": "text/x-python",
   "name": "python",
   "nbconvert_exporter": "python",
   "pygments_lexer": "ipython3",
   "version": "3.10.13"
  }
 },
 "nbformat": 4,
 "nbformat_minor": 2
}
